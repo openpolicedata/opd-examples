{
 "cells": [
  {
   "cell_type": "markdown",
   "metadata": {},
   "source": [
    "# Full Example for Python Beginners"
   ]
  },
  {
   "attachments": {},
   "cell_type": "markdown",
   "metadata": {},
   "source": [
    "## The intent of this Jupyter notebook is to both show how to analyze Fairfax arrests drunk in public data but also to provide building blocks that can be reused for other analyses\n",
    "\n",
    "This document is a Jupyter notebook. It is essentially an environment where you can:\n",
    "1. Run code\n",
    "2. Display the results as text, plots, or other visualizations\n",
    "3. Display text\n",
    "\n",
    "Code and text are organized into cells which can either be:\n",
    "1. Text cells (like this one)\n",
    "2. Code cells (like the next one)\n",
    "\n",
    "Cells can be run individually to run the code in that cell. Running of the cells is cumulative in that if a variable x was created in a cell that was previously run, it can later be used in another cell.\n",
    "\n",
    "*NOTE: Cells are intended to be run in order (but don't have to be). If cells are run out of order, the user must beware of unintended consequences if variables get overwritten. If cell 1 sets x=1, cell 2 sets x = x+3, and cell 3 sets x = 2*x, I would expect x to be (1+3)*2=8 after running cell 3 but if I run cell 1, then cell 2 twice, and then cell 3, x would actually be (1+3+3)*2=14. There are legitimate reasons to run code out of order (i.e. if you need to fix code in a prior cell and don't want/need to start over); you just have to beware that variables are not being reused/overwritten in a way that gives unintended results*\n",
    "\n",
    "To run a cell, you can:\n",
    "1. Click the play button located next to the cell\n",
    "2. Click CTRL-ENTER on the keyboard\n",
    "3. Click SHIFT-ENTER on the keyboard which will run the code in the cell AND advance to the next cell. Clicking SHIFT-ENTER while a text cell is active will just advance to the next cell\n",
    "Note that the cell that runs is the one that is active (for code cells, the one where the cursor is at). \n",
    "\n",
    "To create new cells, you can:\n",
    "1. Use the menus around the cells to add cells before or after the current one\n",
    "2. If you are running cells, clicking SHIFT-ENTER while the currently *last* cell is active will run that cell and create a new one after it"
   ]
  },
  {
   "cell_type": "code",
   "execution_count": 1,
   "metadata": {},
   "outputs": [],
   "source": [
    "# This is a comment. It is not code and does not run\n",
    "\n",
    "# Let's load in the libraries that we will use\n",
    "\n",
    "# This loads in the Open Police Data package and renames it as opd (for convenience, the as opd \n",
    "# could be left off and the package would be referred openpolicedata)\n",
    "# OpenPoliceData is a package for loading in police datasets\n",
    "import openpolicedata as opd\n",
    "# Same deal except for the pandas package. pandas is a library for manipulating, analyzing, and plotting tabular data\n",
    "import pandas as pd"
   ]
  },
  {
   "cell_type": "markdown",
   "metadata": {},
   "source": [
    "Let's find what data is available for a source (usually a police department, sometimes a state). We will create the source and then print out a table of available data.\n",
    "\n",
    "Pay attention to TableType and Year. Those will be needed to reference the data that you want to load later."
   ]
  },
  {
   "cell_type": "code",
   "execution_count": 2,
   "metadata": {},
   "outputs": [
    {
     "data": {
      "text/html": [
       "<div>\n",
       "<style scoped>\n",
       "    .dataframe tbody tr th:only-of-type {\n",
       "        vertical-align: middle;\n",
       "    }\n",
       "\n",
       "    .dataframe tbody tr th {\n",
       "        vertical-align: top;\n",
       "    }\n",
       "\n",
       "    .dataframe thead th {\n",
       "        text-align: right;\n",
       "    }\n",
       "</style>\n",
       "<table border=\"1\" class=\"dataframe\">\n",
       "  <thead>\n",
       "    <tr style=\"text-align: right;\">\n",
       "      <th></th>\n",
       "      <th>State</th>\n",
       "      <th>SourceName</th>\n",
       "      <th>Agency</th>\n",
       "      <th>AgencyFull</th>\n",
       "      <th>TableType</th>\n",
       "      <th>Year</th>\n",
       "      <th>Description</th>\n",
       "      <th>DataType</th>\n",
       "      <th>URL</th>\n",
       "      <th>date_field</th>\n",
       "      <th>dataset_id</th>\n",
       "      <th>agency_field</th>\n",
       "      <th>min_version</th>\n",
       "      <th>readme</th>\n",
       "    </tr>\n",
       "  </thead>\n",
       "  <tbody>\n",
       "    <tr>\n",
       "      <th>1</th>\n",
       "      <td>Virginia</td>\n",
       "      <td>Fairfax County</td>\n",
       "      <td>Fairfax County</td>\n",
       "      <td>Fairfax County Police Department</td>\n",
       "      <td>TRAFFIC WARNINGS</td>\n",
       "      <td>2019</td>\n",
       "      <td>Traffic Warnings issued by Fairfax County Police</td>\n",
       "      <td>CSV</td>\n",
       "      <td>https://www.fairfaxcounty.gov/police/sites/pol...</td>\n",
       "      <td>&lt;NA&gt;</td>\n",
       "      <td>&lt;NA&gt;</td>\n",
       "      <td>&lt;NA&gt;</td>\n",
       "      <td>0.3.1</td>\n",
       "      <td>https://www.fcpod.org/pages/crime-data</td>\n",
       "    </tr>\n",
       "    <tr>\n",
       "      <th>2</th>\n",
       "      <td>Virginia</td>\n",
       "      <td>Fairfax County</td>\n",
       "      <td>Fairfax County</td>\n",
       "      <td>Fairfax County Police Department</td>\n",
       "      <td>TRAFFIC WARNINGS</td>\n",
       "      <td>2020</td>\n",
       "      <td>Traffic Warnings issued by Fairfax County Police</td>\n",
       "      <td>CSV</td>\n",
       "      <td>https://www.fairfaxcounty.gov/police/sites/pol...</td>\n",
       "      <td>&lt;NA&gt;</td>\n",
       "      <td>&lt;NA&gt;</td>\n",
       "      <td>&lt;NA&gt;</td>\n",
       "      <td>0.3.1</td>\n",
       "      <td>https://www.fcpod.org/pages/crime-data</td>\n",
       "    </tr>\n",
       "    <tr>\n",
       "      <th>3</th>\n",
       "      <td>Virginia</td>\n",
       "      <td>Fairfax County</td>\n",
       "      <td>Fairfax County</td>\n",
       "      <td>Fairfax County Police Department</td>\n",
       "      <td>TRAFFIC WARNINGS</td>\n",
       "      <td>2021</td>\n",
       "      <td>Traffic Warnings issued by Fairfax County Police</td>\n",
       "      <td>CSV</td>\n",
       "      <td>https://www.fairfaxcounty.gov/police/sites/pol...</td>\n",
       "      <td>&lt;NA&gt;</td>\n",
       "      <td>&lt;NA&gt;</td>\n",
       "      <td>&lt;NA&gt;</td>\n",
       "      <td>0.3.1</td>\n",
       "      <td>https://www.fcpod.org/pages/crime-data</td>\n",
       "    </tr>\n",
       "    <tr>\n",
       "      <th>4</th>\n",
       "      <td>Virginia</td>\n",
       "      <td>Fairfax County</td>\n",
       "      <td>Fairfax County</td>\n",
       "      <td>Fairfax County Police Department</td>\n",
       "      <td>TRAFFIC CITATIONS</td>\n",
       "      <td>2019</td>\n",
       "      <td>Traffic Citations issued by Fairfax County Police</td>\n",
       "      <td>CSV</td>\n",
       "      <td>https://www.fairfaxcounty.gov/police/sites/pol...</td>\n",
       "      <td>&lt;NA&gt;</td>\n",
       "      <td>&lt;NA&gt;</td>\n",
       "      <td>&lt;NA&gt;</td>\n",
       "      <td>0.3.1</td>\n",
       "      <td>https://www.fcpod.org/pages/crime-data</td>\n",
       "    </tr>\n",
       "    <tr>\n",
       "      <th>5</th>\n",
       "      <td>Virginia</td>\n",
       "      <td>Fairfax County</td>\n",
       "      <td>Fairfax County</td>\n",
       "      <td>Fairfax County Police Department</td>\n",
       "      <td>TRAFFIC CITATIONS</td>\n",
       "      <td>2020</td>\n",
       "      <td>Traffic Citations issued by Fairfax County Police</td>\n",
       "      <td>CSV</td>\n",
       "      <td>https://www.fairfaxcounty.gov/police/sites/pol...</td>\n",
       "      <td>&lt;NA&gt;</td>\n",
       "      <td>&lt;NA&gt;</td>\n",
       "      <td>&lt;NA&gt;</td>\n",
       "      <td>0.3.1</td>\n",
       "      <td>https://www.fcpod.org/pages/crime-data</td>\n",
       "    </tr>\n",
       "    <tr>\n",
       "      <th>6</th>\n",
       "      <td>Virginia</td>\n",
       "      <td>Fairfax County</td>\n",
       "      <td>Fairfax County</td>\n",
       "      <td>Fairfax County Police Department</td>\n",
       "      <td>TRAFFIC CITATIONS</td>\n",
       "      <td>2021</td>\n",
       "      <td>Citations issued within 2021. Data was collect...</td>\n",
       "      <td>CSV</td>\n",
       "      <td>https://www.fairfaxcounty.gov/police/sites/pol...</td>\n",
       "      <td>&lt;NA&gt;</td>\n",
       "      <td>&lt;NA&gt;</td>\n",
       "      <td>&lt;NA&gt;</td>\n",
       "      <td>0.3.1</td>\n",
       "      <td>https://www.fcpod.org/pages/crime-data</td>\n",
       "    </tr>\n",
       "    <tr>\n",
       "      <th>327</th>\n",
       "      <td>Virginia</td>\n",
       "      <td>Fairfax County</td>\n",
       "      <td>Fairfax County</td>\n",
       "      <td>Fairfax County Police Department</td>\n",
       "      <td>ARRESTS</td>\n",
       "      <td>2016</td>\n",
       "      <td>&lt;NA&gt;</td>\n",
       "      <td>ArcGIS</td>\n",
       "      <td>https://services9.arcgis.com/kYvfX7YK8OobHItA/...</td>\n",
       "      <td>&lt;NA&gt;</td>\n",
       "      <td>&lt;NA&gt;</td>\n",
       "      <td>&lt;NA&gt;</td>\n",
       "      <td>0.2</td>\n",
       "      <td>&lt;NA&gt;</td>\n",
       "    </tr>\n",
       "    <tr>\n",
       "      <th>328</th>\n",
       "      <td>Virginia</td>\n",
       "      <td>Fairfax County</td>\n",
       "      <td>Fairfax County</td>\n",
       "      <td>Fairfax County Police Department</td>\n",
       "      <td>ARRESTS</td>\n",
       "      <td>2017</td>\n",
       "      <td>&lt;NA&gt;</td>\n",
       "      <td>ArcGIS</td>\n",
       "      <td>https://services9.arcgis.com/kYvfX7YK8OobHItA/...</td>\n",
       "      <td>&lt;NA&gt;</td>\n",
       "      <td>&lt;NA&gt;</td>\n",
       "      <td>&lt;NA&gt;</td>\n",
       "      <td>0.2</td>\n",
       "      <td>&lt;NA&gt;</td>\n",
       "    </tr>\n",
       "    <tr>\n",
       "      <th>329</th>\n",
       "      <td>Virginia</td>\n",
       "      <td>Fairfax County</td>\n",
       "      <td>Fairfax County</td>\n",
       "      <td>Fairfax County Police Department</td>\n",
       "      <td>ARRESTS</td>\n",
       "      <td>2018</td>\n",
       "      <td>&lt;NA&gt;</td>\n",
       "      <td>ArcGIS</td>\n",
       "      <td>https://services9.arcgis.com/kYvfX7YK8OobHItA/...</td>\n",
       "      <td>&lt;NA&gt;</td>\n",
       "      <td>&lt;NA&gt;</td>\n",
       "      <td>&lt;NA&gt;</td>\n",
       "      <td>0.2</td>\n",
       "      <td>&lt;NA&gt;</td>\n",
       "    </tr>\n",
       "    <tr>\n",
       "      <th>330</th>\n",
       "      <td>Virginia</td>\n",
       "      <td>Fairfax County</td>\n",
       "      <td>Fairfax County</td>\n",
       "      <td>Fairfax County Police Department</td>\n",
       "      <td>ARRESTS</td>\n",
       "      <td>2019</td>\n",
       "      <td>&lt;NA&gt;</td>\n",
       "      <td>CSV</td>\n",
       "      <td>https://www.fairfaxcounty.gov/police/sites/pol...</td>\n",
       "      <td>&lt;NA&gt;</td>\n",
       "      <td>&lt;NA&gt;</td>\n",
       "      <td>&lt;NA&gt;</td>\n",
       "      <td>0.3.1</td>\n",
       "      <td>https://www.fcpod.org/pages/crime-data</td>\n",
       "    </tr>\n",
       "    <tr>\n",
       "      <th>331</th>\n",
       "      <td>Virginia</td>\n",
       "      <td>Fairfax County</td>\n",
       "      <td>Fairfax County</td>\n",
       "      <td>Fairfax County Police Department</td>\n",
       "      <td>ARRESTS</td>\n",
       "      <td>2020</td>\n",
       "      <td>&lt;NA&gt;</td>\n",
       "      <td>CSV</td>\n",
       "      <td>https://www.fairfaxcounty.gov/police/sites/pol...</td>\n",
       "      <td>&lt;NA&gt;</td>\n",
       "      <td>&lt;NA&gt;</td>\n",
       "      <td>&lt;NA&gt;</td>\n",
       "      <td>0.3.1</td>\n",
       "      <td>https://www.fcpod.org/pages/crime-data</td>\n",
       "    </tr>\n",
       "    <tr>\n",
       "      <th>332</th>\n",
       "      <td>Virginia</td>\n",
       "      <td>Fairfax County</td>\n",
       "      <td>Fairfax County</td>\n",
       "      <td>Fairfax County Police Department</td>\n",
       "      <td>ARRESTS</td>\n",
       "      <td>2021</td>\n",
       "      <td>&lt;NA&gt;</td>\n",
       "      <td>CSV</td>\n",
       "      <td>https://www.fairfaxcounty.gov/police/sites/pol...</td>\n",
       "      <td>&lt;NA&gt;</td>\n",
       "      <td>&lt;NA&gt;</td>\n",
       "      <td>&lt;NA&gt;</td>\n",
       "      <td>0.3.1</td>\n",
       "      <td>https://www.fcpod.org/pages/crime-data</td>\n",
       "    </tr>\n",
       "    <tr>\n",
       "      <th>333</th>\n",
       "      <td>Virginia</td>\n",
       "      <td>Fairfax County</td>\n",
       "      <td>Fairfax County</td>\n",
       "      <td>Fairfax County Police Department</td>\n",
       "      <td>ARRESTS</td>\n",
       "      <td>2022</td>\n",
       "      <td>&lt;NA&gt;</td>\n",
       "      <td>CSV</td>\n",
       "      <td>https://www.fairfaxcounty.gov/police/sites/pol...</td>\n",
       "      <td>&lt;NA&gt;</td>\n",
       "      <td>&lt;NA&gt;</td>\n",
       "      <td>&lt;NA&gt;</td>\n",
       "      <td>0.3.1</td>\n",
       "      <td>https://www.fcpod.org/pages/crime-data</td>\n",
       "    </tr>\n",
       "  </tbody>\n",
       "</table>\n",
       "</div>"
      ],
      "text/plain": [
       "        State      SourceName          Agency  \\\n",
       "1    Virginia  Fairfax County  Fairfax County   \n",
       "2    Virginia  Fairfax County  Fairfax County   \n",
       "3    Virginia  Fairfax County  Fairfax County   \n",
       "4    Virginia  Fairfax County  Fairfax County   \n",
       "5    Virginia  Fairfax County  Fairfax County   \n",
       "6    Virginia  Fairfax County  Fairfax County   \n",
       "327  Virginia  Fairfax County  Fairfax County   \n",
       "328  Virginia  Fairfax County  Fairfax County   \n",
       "329  Virginia  Fairfax County  Fairfax County   \n",
       "330  Virginia  Fairfax County  Fairfax County   \n",
       "331  Virginia  Fairfax County  Fairfax County   \n",
       "332  Virginia  Fairfax County  Fairfax County   \n",
       "333  Virginia  Fairfax County  Fairfax County   \n",
       "\n",
       "                           AgencyFull          TableType  Year  \\\n",
       "1    Fairfax County Police Department   TRAFFIC WARNINGS  2019   \n",
       "2    Fairfax County Police Department   TRAFFIC WARNINGS  2020   \n",
       "3    Fairfax County Police Department   TRAFFIC WARNINGS  2021   \n",
       "4    Fairfax County Police Department  TRAFFIC CITATIONS  2019   \n",
       "5    Fairfax County Police Department  TRAFFIC CITATIONS  2020   \n",
       "6    Fairfax County Police Department  TRAFFIC CITATIONS  2021   \n",
       "327  Fairfax County Police Department            ARRESTS  2016   \n",
       "328  Fairfax County Police Department            ARRESTS  2017   \n",
       "329  Fairfax County Police Department            ARRESTS  2018   \n",
       "330  Fairfax County Police Department            ARRESTS  2019   \n",
       "331  Fairfax County Police Department            ARRESTS  2020   \n",
       "332  Fairfax County Police Department            ARRESTS  2021   \n",
       "333  Fairfax County Police Department            ARRESTS  2022   \n",
       "\n",
       "                                           Description DataType  \\\n",
       "1     Traffic Warnings issued by Fairfax County Police      CSV   \n",
       "2     Traffic Warnings issued by Fairfax County Police      CSV   \n",
       "3     Traffic Warnings issued by Fairfax County Police      CSV   \n",
       "4    Traffic Citations issued by Fairfax County Police      CSV   \n",
       "5    Traffic Citations issued by Fairfax County Police      CSV   \n",
       "6    Citations issued within 2021. Data was collect...      CSV   \n",
       "327                                               <NA>   ArcGIS   \n",
       "328                                               <NA>   ArcGIS   \n",
       "329                                               <NA>   ArcGIS   \n",
       "330                                               <NA>      CSV   \n",
       "331                                               <NA>      CSV   \n",
       "332                                               <NA>      CSV   \n",
       "333                                               <NA>      CSV   \n",
       "\n",
       "                                                   URL date_field dataset_id  \\\n",
       "1    https://www.fairfaxcounty.gov/police/sites/pol...       <NA>       <NA>   \n",
       "2    https://www.fairfaxcounty.gov/police/sites/pol...       <NA>       <NA>   \n",
       "3    https://www.fairfaxcounty.gov/police/sites/pol...       <NA>       <NA>   \n",
       "4    https://www.fairfaxcounty.gov/police/sites/pol...       <NA>       <NA>   \n",
       "5    https://www.fairfaxcounty.gov/police/sites/pol...       <NA>       <NA>   \n",
       "6    https://www.fairfaxcounty.gov/police/sites/pol...       <NA>       <NA>   \n",
       "327  https://services9.arcgis.com/kYvfX7YK8OobHItA/...       <NA>       <NA>   \n",
       "328  https://services9.arcgis.com/kYvfX7YK8OobHItA/...       <NA>       <NA>   \n",
       "329  https://services9.arcgis.com/kYvfX7YK8OobHItA/...       <NA>       <NA>   \n",
       "330  https://www.fairfaxcounty.gov/police/sites/pol...       <NA>       <NA>   \n",
       "331  https://www.fairfaxcounty.gov/police/sites/pol...       <NA>       <NA>   \n",
       "332  https://www.fairfaxcounty.gov/police/sites/pol...       <NA>       <NA>   \n",
       "333  https://www.fairfaxcounty.gov/police/sites/pol...       <NA>       <NA>   \n",
       "\n",
       "    agency_field min_version                                  readme  \n",
       "1           <NA>       0.3.1  https://www.fcpod.org/pages/crime-data  \n",
       "2           <NA>       0.3.1  https://www.fcpod.org/pages/crime-data  \n",
       "3           <NA>       0.3.1  https://www.fcpod.org/pages/crime-data  \n",
       "4           <NA>       0.3.1  https://www.fcpod.org/pages/crime-data  \n",
       "5           <NA>       0.3.1  https://www.fcpod.org/pages/crime-data  \n",
       "6           <NA>       0.3.1  https://www.fcpod.org/pages/crime-data  \n",
       "327         <NA>         0.2                                    <NA>  \n",
       "328         <NA>         0.2                                    <NA>  \n",
       "329         <NA>         0.2                                    <NA>  \n",
       "330         <NA>       0.3.1  https://www.fcpod.org/pages/crime-data  \n",
       "331         <NA>       0.3.1  https://www.fcpod.org/pages/crime-data  \n",
       "332         <NA>       0.3.1  https://www.fcpod.org/pages/crime-data  \n",
       "333         <NA>       0.3.1  https://www.fcpod.org/pages/crime-data  "
      ]
     },
     "execution_count": 2,
     "metadata": {},
     "output_type": "execute_result"
    }
   ],
   "source": [
    "# Create a source. Sources know what date is availabe in the package, where to find it, and how to load it.\n",
    "\n",
    "# This source is for Fairfax County's open data\n",
    "# The name to the left of the equals sign is the variable that is generated. You use this name when you want to use it below.\n",
    "src = opd.Source(\"Fairfax County\")\n",
    "\n",
    "# Sources have a datasets property that is a table of available datasets from the source\n",
    "# Print out the available datasets\n",
    "# If you don't output to a variable, it will print out below. If we put x = src.datasets here, it would set the variable x to be \n",
    "# src.datasets instead of printing it out\n",
    "\n",
    "# In a Jupyter notebook, if you don't output something to a variable (i.e. x=src.datasets would output src.datasets to x), it will automatically print it out\n",
    "# (NOTE: this can only be done once per cell. Only the last item that isn't outputted to the variable will be printed. To print multiple things, use the print function)\n",
    "src.datasets"
   ]
  },
  {
   "cell_type": "markdown",
   "metadata": {},
   "source": [
    "Now let's load in some data"
   ]
  },
  {
   "cell_type": "code",
   "execution_count": null,
   "metadata": {},
   "outputs": [
    {
     "name": "stdout",
     "output_type": "stream",
     "text": [
      "df_all is a <class 'pandas.core.frame.DataFrame'>\n"
     ]
    },
    {
     "data": {
      "text/html": [
       "<div>\n",
       "<style scoped>\n",
       "    .dataframe tbody tr th:only-of-type {\n",
       "        vertical-align: middle;\n",
       "    }\n",
       "\n",
       "    .dataframe tbody tr th {\n",
       "        vertical-align: top;\n",
       "    }\n",
       "\n",
       "    .dataframe thead th {\n",
       "        text-align: right;\n",
       "    }\n",
       "</style>\n",
       "<table border=\"1\" class=\"dataframe\">\n",
       "  <thead>\n",
       "    <tr style=\"text-align: right;\">\n",
       "      <th></th>\n",
       "      <th>OBJECTID</th>\n",
       "      <th>Arrest ID</th>\n",
       "      <th>Case Number</th>\n",
       "      <th>Arrest Date</th>\n",
       "      <th>Arrest Time</th>\n",
       "      <th>Arrestee Race</th>\n",
       "      <th>Arrestee Sex</th>\n",
       "      <th>Arrestee Age</th>\n",
       "      <th>Arrestee Ethnicity</th>\n",
       "      <th>Resident</th>\n",
       "      <th>...</th>\n",
       "      <th>X Coordinate</th>\n",
       "      <th>Y Coordinate</th>\n",
       "      <th>Station Name</th>\n",
       "      <th>Station Number</th>\n",
       "      <th>IDENTIFIER</th>\n",
       "      <th>DISTRICT_1</th>\n",
       "      <th>BOS Web Address</th>\n",
       "      <th>BOS Phone Number</th>\n",
       "      <th>BOS Name</th>\n",
       "      <th>Year</th>\n",
       "    </tr>\n",
       "  </thead>\n",
       "  <tbody>\n",
       "    <tr>\n",
       "      <th>0</th>\n",
       "      <td>203307</td>\n",
       "      <td>2022004449</td>\n",
       "      <td>20221020083</td>\n",
       "      <td>4/12/2022 0:00</td>\n",
       "      <td>1002</td>\n",
       "      <td>W</td>\n",
       "      <td>M</td>\n",
       "      <td>21</td>\n",
       "      <td>N</td>\n",
       "      <td>R</td>\n",
       "      <td>...</td>\n",
       "      <td>11820093.77</td>\n",
       "      <td>6986983.588</td>\n",
       "      <td>WEST SPRINGFIELD</td>\n",
       "      <td>7</td>\n",
       "      <td>1</td>\n",
       "      <td>BRADDOCK</td>\n",
       "      <td>www.fairfaxcounty.gov/braddock</td>\n",
       "      <td>703-425-9300</td>\n",
       "      <td>James R. Walkinshaw</td>\n",
       "      <td>2022</td>\n",
       "    </tr>\n",
       "    <tr>\n",
       "      <th>1</th>\n",
       "      <td>203308</td>\n",
       "      <td>2022015055</td>\n",
       "      <td>NaN</td>\n",
       "      <td>10/31/2022 0:00</td>\n",
       "      <td>149</td>\n",
       "      <td>W</td>\n",
       "      <td>M</td>\n",
       "      <td>23</td>\n",
       "      <td>H</td>\n",
       "      <td>R</td>\n",
       "      <td>...</td>\n",
       "      <td>11857615.41</td>\n",
       "      <td>6976984.900</td>\n",
       "      <td>FRANCONIA</td>\n",
       "      <td>6</td>\n",
       "      <td>1</td>\n",
       "      <td>BRADDOCK</td>\n",
       "      <td>www.fairfaxcounty.gov/braddock</td>\n",
       "      <td>703-425-9300</td>\n",
       "      <td>James R. Walkinshaw</td>\n",
       "      <td>2022</td>\n",
       "    </tr>\n",
       "    <tr>\n",
       "      <th>2</th>\n",
       "      <td>203309</td>\n",
       "      <td>2022011243</td>\n",
       "      <td>20222330169</td>\n",
       "      <td>8/21/2022 0:00</td>\n",
       "      <td>2246</td>\n",
       "      <td>W</td>\n",
       "      <td>M</td>\n",
       "      <td>44</td>\n",
       "      <td>H</td>\n",
       "      <td>R</td>\n",
       "      <td>...</td>\n",
       "      <td>11849051.88</td>\n",
       "      <td>6982528.121</td>\n",
       "      <td>WEST SPRINGFIELD</td>\n",
       "      <td>7</td>\n",
       "      <td>1</td>\n",
       "      <td>BRADDOCK</td>\n",
       "      <td>www.fairfaxcounty.gov/braddock</td>\n",
       "      <td>703-425-9300</td>\n",
       "      <td>James R. Walkinshaw</td>\n",
       "      <td>2022</td>\n",
       "    </tr>\n",
       "    <tr>\n",
       "      <th>3</th>\n",
       "      <td>203310</td>\n",
       "      <td>2022012244</td>\n",
       "      <td>20222510269</td>\n",
       "      <td>9/8/2022 0:00</td>\n",
       "      <td>1834</td>\n",
       "      <td>W</td>\n",
       "      <td>M</td>\n",
       "      <td>32</td>\n",
       "      <td>N</td>\n",
       "      <td>R</td>\n",
       "      <td>...</td>\n",
       "      <td>11850035.76</td>\n",
       "      <td>7018552.107</td>\n",
       "      <td>MCLEAN</td>\n",
       "      <td>3</td>\n",
       "      <td>3</td>\n",
       "      <td>DRANESVILLE</td>\n",
       "      <td>www.fairfaxcounty.gov/dranesville</td>\n",
       "      <td>703-356-0551</td>\n",
       "      <td>John W. Foust</td>\n",
       "      <td>2022</td>\n",
       "    </tr>\n",
       "    <tr>\n",
       "      <th>4</th>\n",
       "      <td>203311</td>\n",
       "      <td>2022018574</td>\n",
       "      <td>20223640022</td>\n",
       "      <td>12/29/2022 0:00</td>\n",
       "      <td>1713</td>\n",
       "      <td>W</td>\n",
       "      <td>M</td>\n",
       "      <td>30</td>\n",
       "      <td>H</td>\n",
       "      <td>R</td>\n",
       "      <td>...</td>\n",
       "      <td>11857640.57</td>\n",
       "      <td>6977108.718</td>\n",
       "      <td>FRANCONIA</td>\n",
       "      <td>6</td>\n",
       "      <td>1</td>\n",
       "      <td>BRADDOCK</td>\n",
       "      <td>www.fairfaxcounty.gov/braddock</td>\n",
       "      <td>703-425-9300</td>\n",
       "      <td>James R. Walkinshaw</td>\n",
       "      <td>2022</td>\n",
       "    </tr>\n",
       "  </tbody>\n",
       "</table>\n",
       "<p>5 rows × 35 columns</p>\n",
       "</div>"
      ],
      "text/plain": [
       "   OBJECTID   Arrest ID  Case Number      Arrest Date  Arrest Time  \\\n",
       "0    203307  2022004449  20221020083   4/12/2022 0:00         1002   \n",
       "1    203308  2022015055          NaN  10/31/2022 0:00          149   \n",
       "2    203309  2022011243  20222330169   8/21/2022 0:00         2246   \n",
       "3    203310  2022012244  20222510269    9/8/2022 0:00         1834   \n",
       "4    203311  2022018574  20223640022  12/29/2022 0:00         1713   \n",
       "\n",
       "  Arrestee Race Arrestee Sex  Arrestee Age Arrestee Ethnicity Resident  ...  \\\n",
       "0             W            M            21                  N        R  ...   \n",
       "1             W            M            23                  H        R  ...   \n",
       "2             W            M            44                  H        R  ...   \n",
       "3             W            M            32                  N        R  ...   \n",
       "4             W            M            30                  H        R  ...   \n",
       "\n",
       "   X Coordinate Y Coordinate      Station Name Station Number  IDENTIFIER  \\\n",
       "0   11820093.77  6986983.588  WEST SPRINGFIELD              7           1   \n",
       "1   11857615.41  6976984.900         FRANCONIA              6           1   \n",
       "2   11849051.88  6982528.121  WEST SPRINGFIELD              7           1   \n",
       "3   11850035.76  7018552.107            MCLEAN              3           3   \n",
       "4   11857640.57  6977108.718         FRANCONIA              6           1   \n",
       "\n",
       "    DISTRICT_1                   BOS Web Address  BOS Phone Number  \\\n",
       "0     BRADDOCK     www.fairfaxcounty.gov/braddock     703-425-9300   \n",
       "1     BRADDOCK     www.fairfaxcounty.gov/braddock     703-425-9300   \n",
       "2     BRADDOCK     www.fairfaxcounty.gov/braddock     703-425-9300   \n",
       "3  DRANESVILLE  www.fairfaxcounty.gov/dranesville     703-356-0551   \n",
       "4     BRADDOCK     www.fairfaxcounty.gov/braddock     703-425-9300   \n",
       "\n",
       "              BOS Name  Year  \n",
       "0  James R. Walkinshaw  2022  \n",
       "1  James R. Walkinshaw  2022  \n",
       "2  James R. Walkinshaw  2022  \n",
       "3        John W. Foust  2022  \n",
       "4  James R. Walkinshaw  2022  \n",
       "\n",
       "[5 rows x 35 columns]"
      ]
     },
     "execution_count": 3,
     "metadata": {},
     "output_type": "execute_result"
    }
   ],
   "source": [
    "# year and table_type should match values in src.datasets\n",
    "t = src.load(date=2022, table_type=\"ARRESTS\")\n",
    "\n",
    "# You can check the type of something with the type function\n",
    "# table is a table of data that was just loaded. \n",
    "# The table is a DataFrame from the pandas Python package. Any of the techniques applied to t.table can be applied to other pandas DataFrames\n",
    "# The below print statement prints out the text in the string except it replaces {type(t.table)} with the type of df_all\n",
    "print(f\"df_all is a {type(t.table)}\")\n",
    "\n",
    "# head() prints out the first 5 rows. If you want to print out a different # of rows (n) use head(n)\n",
    "t.table.head()"
   ]
  },
  {
   "cell_type": "markdown",
   "metadata": {},
   "source": [
    "See what columns are in the table"
   ]
  },
  {
   "cell_type": "code",
   "execution_count": 4,
   "metadata": {},
   "outputs": [
    {
     "data": {
      "text/plain": [
       "Index(['OBJECTID', 'Arrest ID', 'Case Number', 'Arrest Date', 'Arrest Time',\n",
       "       'Arrestee Race', 'Arrestee Sex', 'Arrestee Age', 'Arrestee Ethnicity',\n",
       "       'Resident', 'PSA', 'Patrol Area', 'ESZ (Emergency Service Zones)',\n",
       "       'Arrest Type', 'Sequence Number', 'Statute', 'Statute Description',\n",
       "       'IBR Code', 'IBR Description', 'Felony or Misdemeanor',\n",
       "       'Arresting Officer Number', 'Officer Sex', 'Officer Race',\n",
       "       'Arrest Charge ID', 'Arrestee Name ID', 'X Coordinate', 'Y Coordinate',\n",
       "       'Station Name', 'Station Number', 'IDENTIFIER', 'DISTRICT_1',\n",
       "       'BOS Web Address ', 'BOS Phone Number', 'BOS Name', 'Year'],\n",
       "      dtype='object')"
      ]
     },
     "execution_count": 4,
     "metadata": {},
     "output_type": "execute_result"
    }
   ],
   "source": [
    "t.table.columns"
   ]
  },
  {
   "attachments": {},
   "cell_type": "markdown",
   "metadata": {},
   "source": [
    "The Arrests table doesn't have a column that combines race and ethnicity, let's create one"
   ]
  },
  {
   "cell_type": "code",
   "execution_count": 5,
   "metadata": {},
   "outputs": [
    {
     "name": "stdout",
     "output_type": "stream",
     "text": [
      "Race ethnicity result for race W and ethnicity N is W\n",
      "Race ethnicity result for race W and ethnicity H is H\n"
     ]
    }
   ],
   "source": [
    "# We need to combine race and ethnicity. We'll need to create a function to do that\n",
    "def combine_raceeth(x):  # This defines a function called combine_raceeth with 1 input called x\n",
    "    # The function starts here\n",
    "    # In Python, the start and stop of sections of code (such as functions and for loops) is indicated by indenting\n",
    "\n",
    "    # x is the input to this function. It is expected to be a row (which are actually represented as pandas Series) of a DataFrame\n",
    "    # that contains a value for \"Arrestee Ethnicity\" and \"Arrestee Race\"\n",
    "\n",
    "    # The return keyword outputs whatever is to the right of it\n",
    "    # If ethnicity is Hispanic or Unknown return the ethnicity\n",
    "    # Otherwise, return the race\n",
    "    if x[\"Arrestee Ethnicity\"] in [\"H\", \"U\"]:\n",
    "        return x[\"Arrestee Ethnicity\"]\n",
    "    else:\n",
    "        return x[\"Arrestee Race\"]\n",
    "    # The function ends here because the next lines are not indented\n",
    "\n",
    "# Let's test out our function\n",
    "rows_check =  [0, 1]  # Indices of rows that contain good test cases for the 2022 Arrests data. In Python, indices start from 0 (not 1)\n",
    "# This for loop runs len(rows_check) times (where len(rows_check) gives the length of rows_check)\n",
    "# In each iteration of the for loop, i is set to the next value in rows_check\n",
    "for i in rows_check:\n",
    "    # iloc allows access to values of the table/DataFrame by row (1st value) and column (2nd value) indices. The colon is shorthand for all indices\n",
    "    # so here we are getting all columns for row i\n",
    "    row = t.table.iloc[i,:]\n",
    "    race_eth = combine_raceeth(row)\n",
    "    race = row[\"Arrestee Race\"]\n",
    "    eth = row[\"Arrestee Ethnicity\"]\n",
    "    print(f\"Race ethnicity result for race {race} and ethnicity {eth} is {race_eth}\")"
   ]
  },
  {
   "cell_type": "code",
   "execution_count": 6,
   "metadata": {},
   "outputs": [],
   "source": [
    "# Before we add the column, let's create a copy of t.table. It's good practice not to change the original copy\n",
    "df_all = t.table.copy()"
   ]
  },
  {
   "cell_type": "code",
   "execution_count": 7,
   "metadata": {},
   "outputs": [
    {
     "data": {
      "text/plain": [
       "B    10162\n",
       "H     7490\n",
       "W     6264\n",
       "A      981\n",
       "U      735\n",
       "I       26\n",
       "Name: race_eth, dtype: int64"
      ]
     },
     "execution_count": 7,
     "metadata": {},
     "output_type": "execute_result"
    }
   ],
   "source": [
    "# Now, let's create a new column in our date frame for combined race ethnicity\n",
    "\n",
    "# df_all[[\"Arrestee Race\",\"Arrestee Ethnicity\"]] extracts just the race and ethnicity columns into a temporary new DataFrame\n",
    "# This is purely for efficiency reasons and is not necessary\n",
    "# The .apply(combine_raceeth, axis=1) applies the function combine_raceeth to each row (as opposed to column because axis=1) of df[[\"Arrestee Race\",\"Arrestee Ethnicity\"]]\n",
    "# This outputs a new columns (or pandas Series)\n",
    "# The new column is called race_eth\n",
    "df_all[\"race_eth\"] = df_all[[\"Arrestee Race\",\"Arrestee Ethnicity\"]].apply(combine_raceeth,axis=1)\n",
    "\n",
    "# Let's check out how many of each unique value of race_eth there is in the entire Arrests table\n",
    "df_all[\"race_eth\"].value_counts()"
   ]
  },
  {
   "attachments": {},
   "cell_type": "markdown",
   "metadata": {},
   "source": [
    "Let's try to figure out what the statute codes are associated with Drunk in Public arrests."
   ]
  },
  {
   "cell_type": "code",
   "execution_count": 8,
   "metadata": {},
   "outputs": [
    {
     "name": "stdout",
     "output_type": "stream",
     "text": [
      "The first 5 rows of has_word are 0    False\n",
      "1     True\n",
      "2    False\n",
      "3    False\n",
      "4     True\n",
      "Name: Statute Description, dtype: bool\n",
      "\n",
      "Words containing drunk are ['DRUNK IN PUBLIC OR PROFANE'\n",
      " 'ALCOHOL: INTERDICTED PERSON DRUNK IN PUBLIC'\n",
      " 'DRUNK IN PUBLIC OR PROFANE - 3X IN ONE YEAR']\n",
      "\n",
      "unique_pairs is also a <class 'pandas.core.frame.DataFrame'>\n"
     ]
    },
    {
     "data": {
      "text/html": [
       "<div>\n",
       "<style scoped>\n",
       "    .dataframe tbody tr th:only-of-type {\n",
       "        vertical-align: middle;\n",
       "    }\n",
       "\n",
       "    .dataframe tbody tr th {\n",
       "        vertical-align: top;\n",
       "    }\n",
       "\n",
       "    .dataframe thead th {\n",
       "        text-align: right;\n",
       "    }\n",
       "</style>\n",
       "<table border=\"1\" class=\"dataframe\">\n",
       "  <thead>\n",
       "    <tr style=\"text-align: right;\">\n",
       "      <th></th>\n",
       "      <th>Statute Description</th>\n",
       "      <th>Statute</th>\n",
       "    </tr>\n",
       "  </thead>\n",
       "  <tbody>\n",
       "    <tr>\n",
       "      <th>1</th>\n",
       "      <td>DRUNK IN PUBLIC OR PROFANE</td>\n",
       "      <td>5/1/2001</td>\n",
       "    </tr>\n",
       "    <tr>\n",
       "      <th>5555</th>\n",
       "      <td>DRUNK IN PUBLIC OR PROFANE</td>\n",
       "      <td>5-1-1 (18.2-388</td>\n",
       "    </tr>\n",
       "    <tr>\n",
       "      <th>7351</th>\n",
       "      <td>ALCOHOL: INTERDICTED PERSON DRUNK IN PUBLIC</td>\n",
       "      <td>4.1-322</td>\n",
       "    </tr>\n",
       "    <tr>\n",
       "      <th>12458</th>\n",
       "      <td>DRUNK IN PUBLIC OR PROFANE</td>\n",
       "      <td>18.2-388</td>\n",
       "    </tr>\n",
       "    <tr>\n",
       "      <th>13512</th>\n",
       "      <td>DRUNK IN PUBLIC OR PROFANE - 3X IN ONE YEAR</td>\n",
       "      <td>5-1-1(B)</td>\n",
       "    </tr>\n",
       "  </tbody>\n",
       "</table>\n",
       "</div>"
      ],
      "text/plain": [
       "                               Statute Description          Statute\n",
       "1                       DRUNK IN PUBLIC OR PROFANE         5/1/2001\n",
       "5555                    DRUNK IN PUBLIC OR PROFANE  5-1-1 (18.2-388\n",
       "7351   ALCOHOL: INTERDICTED PERSON DRUNK IN PUBLIC          4.1-322\n",
       "12458                   DRUNK IN PUBLIC OR PROFANE         18.2-388\n",
       "13512  DRUNK IN PUBLIC OR PROFANE - 3X IN ONE YEAR         5-1-1(B)"
      ]
     },
     "execution_count": 8,
     "metadata": {},
     "output_type": "execute_result"
    }
   ],
   "source": [
    "# Let's find statute descriptions with the word Drunk in them\n",
    "# The words used could be changed to search for other statute codes\n",
    "word_to_find = \"drunk\"\n",
    "\n",
    "# df_all['Statute Description'] accesses column 'Statute Description' in df_all\n",
    "# .str allows functions to be applied to strings (i.e. text)\n",
    "# lower() makes all the values in the string lower case (so that we don't have to worry if they are spelled Drunk or drunk)\n",
    "col = df_all['Statute Description'].str.lower()\n",
    "# .contains(x) searches for the substring x in each value in the column\n",
    "# The result is a column where the value is True if df_all['Statute Description'] contains the word drunk and False if not\n",
    "has_word = col.str.contains(word_to_find.lower())\n",
    "\n",
    "print(f\"The first 5 rows of has_word are {has_word.head()}\")\n",
    "\n",
    "# The [has_word] after df_all['Statute Description'] creates a new column that only contains the cells of df_all['Statute Description'] where has_word is True\n",
    "# .unique()\n",
    "unique_statute_desc = df_all['Statute Description'][has_word].unique()\n",
    "# The \\n creates a new line after the text is printed\n",
    "print(f\"\\nWords containing {word_to_find} are {unique_statute_desc}\\n\")\n",
    "\n",
    "# If we want the statutes associated with the Statute Descriptions containing drunk, we can do the following\n",
    "# Get columns Statute Description and Statute\n",
    "# Only keep the rows where has_word is True\n",
    "# drop_duplicates() only keeps the rows that have unique values\n",
    "unique_pairs = df_all[['Statute Description','Statute']][has_word].drop_duplicates()\n",
    "print(f\"unique_pairs is also a {type(unique_pairs)}\")\n",
    "\n",
    "unique_pairs"
   ]
  },
  {
   "attachments": {},
   "cell_type": "markdown",
   "metadata": {},
   "source": [
    "We can see that there are 3 Statute codes associated with the description DRUNK IN PUBLIC OR PROFANE: 5/1/2001, 5-1-1 (1.2-388, and 18.2-388\n",
    "NOTE: The value 5/1/2001 indicates that someone saved this data in Excel which autocompleted 5-1-1 to 5/1/2001 because Excel thought it was a date"
   ]
  },
  {
   "attachments": {},
   "cell_type": "markdown",
   "metadata": {},
   "source": [
    "Let's search for the word public to see if we can find other variations on Drunk in Public"
   ]
  },
  {
   "cell_type": "code",
   "execution_count": 9,
   "metadata": {},
   "outputs": [
    {
     "data": {
      "text/html": [
       "<div>\n",
       "<style scoped>\n",
       "    .dataframe tbody tr th:only-of-type {\n",
       "        vertical-align: middle;\n",
       "    }\n",
       "\n",
       "    .dataframe tbody tr th {\n",
       "        vertical-align: top;\n",
       "    }\n",
       "\n",
       "    .dataframe thead th {\n",
       "        text-align: right;\n",
       "    }\n",
       "</style>\n",
       "<table border=\"1\" class=\"dataframe\">\n",
       "  <thead>\n",
       "    <tr style=\"text-align: right;\">\n",
       "      <th></th>\n",
       "      <th>Statute Description</th>\n",
       "      <th>Statute</th>\n",
       "    </tr>\n",
       "  </thead>\n",
       "  <tbody>\n",
       "    <tr>\n",
       "      <th>22</th>\n",
       "      <td>PROFANE SWEARING OR INTOXICATION IN PUBLIC</td>\n",
       "      <td>18.2-388</td>\n",
       "    </tr>\n",
       "    <tr>\n",
       "      <th>436</th>\n",
       "      <td>PUBLIC RECORDS: FORGERY</td>\n",
       "      <td>18.2-168</td>\n",
       "    </tr>\n",
       "    <tr>\n",
       "      <th>673</th>\n",
       "      <td>FIREARM: SHOOT IN PUBLIC PLACE, CAUSE INJURY</td>\n",
       "      <td>18.2-280(A)</td>\n",
       "    </tr>\n",
       "    <tr>\n",
       "      <th>849</th>\n",
       "      <td>CARRY HANDGUN IN PUBLIC UNDER THE INFLUENCE</td>\n",
       "      <td>18.2-308.012</td>\n",
       "    </tr>\n",
       "    <tr>\n",
       "      <th>885</th>\n",
       "      <td>ALCH BEV TEND/DRK  IN PUBLIC</td>\n",
       "      <td>5/1/2027</td>\n",
       "    </tr>\n",
       "    <tr>\n",
       "      <th>1636</th>\n",
       "      <td>FIREARM: CARRY LOADED IN CERTAIN PUBLIC AREAS</td>\n",
       "      <td>18.2-287.4(ii)</td>\n",
       "    </tr>\n",
       "    <tr>\n",
       "      <th>2059</th>\n",
       "      <td>PUBLIC RECORDS: EMPLOY AS TRUE, FORGERY</td>\n",
       "      <td>18.2-168</td>\n",
       "    </tr>\n",
       "    <tr>\n",
       "      <th>2320</th>\n",
       "      <td>ALCOHOL: DRINKING/OFFER DRINK IN PUBLIC PLACE</td>\n",
       "      <td>4.1-308</td>\n",
       "    </tr>\n",
       "    <tr>\n",
       "      <th>2756</th>\n",
       "      <td>BRIBE:OFFER/ACCEPT/SOLICIT PUBLIC/PARTY OFFICIAL</td>\n",
       "      <td>18.2-447</td>\n",
       "    </tr>\n",
       "    <tr>\n",
       "      <th>6558</th>\n",
       "      <td>FIREARM: SHOOT IN PUBLIC PLACE, NOT CAUSE INJURY</td>\n",
       "      <td>18.2-280(A)</td>\n",
       "    </tr>\n",
       "    <tr>\n",
       "      <th>7917</th>\n",
       "      <td>MARIJUANA POSS/CONSUME PUBLIC PLACE 3RD+ OFFENSE</td>\n",
       "      <td>4.1-1108(B)</td>\n",
       "    </tr>\n",
       "    <tr>\n",
       "      <th>8572</th>\n",
       "      <td>EXPECTORATE/SPIT UPON PUBLIC PLACE</td>\n",
       "      <td>18.2-322</td>\n",
       "    </tr>\n",
       "    <tr>\n",
       "      <th>13241</th>\n",
       "      <td>ENTER/REMAIN IN PUBLIC TRANSIT, TRESPASS</td>\n",
       "      <td>18.2-160.2</td>\n",
       "    </tr>\n",
       "    <tr>\n",
       "      <th>13801</th>\n",
       "      <td>PUBLIC BUILDING: DAMAGE, &lt;$1000</td>\n",
       "      <td>18.2-138</td>\n",
       "    </tr>\n",
       "    <tr>\n",
       "      <th>20321</th>\n",
       "      <td>PROFANE SWEARING OR INTOXICATION IN PUBLIC</td>\n",
       "      <td>5/1/2001</td>\n",
       "    </tr>\n",
       "  </tbody>\n",
       "</table>\n",
       "</div>"
      ],
      "text/plain": [
       "                                    Statute Description         Statute\n",
       "22           PROFANE SWEARING OR INTOXICATION IN PUBLIC        18.2-388\n",
       "436                             PUBLIC RECORDS: FORGERY        18.2-168\n",
       "673        FIREARM: SHOOT IN PUBLIC PLACE, CAUSE INJURY     18.2-280(A)\n",
       "849         CARRY HANDGUN IN PUBLIC UNDER THE INFLUENCE    18.2-308.012\n",
       "885                        ALCH BEV TEND/DRK  IN PUBLIC        5/1/2027\n",
       "1636      FIREARM: CARRY LOADED IN CERTAIN PUBLIC AREAS  18.2-287.4(ii)\n",
       "2059            PUBLIC RECORDS: EMPLOY AS TRUE, FORGERY        18.2-168\n",
       "2320      ALCOHOL: DRINKING/OFFER DRINK IN PUBLIC PLACE         4.1-308\n",
       "2756   BRIBE:OFFER/ACCEPT/SOLICIT PUBLIC/PARTY OFFICIAL        18.2-447\n",
       "6558   FIREARM: SHOOT IN PUBLIC PLACE, NOT CAUSE INJURY     18.2-280(A)\n",
       "7917   MARIJUANA POSS/CONSUME PUBLIC PLACE 3RD+ OFFENSE     4.1-1108(B)\n",
       "8572                 EXPECTORATE/SPIT UPON PUBLIC PLACE        18.2-322\n",
       "13241          ENTER/REMAIN IN PUBLIC TRANSIT, TRESPASS      18.2-160.2\n",
       "13801                   PUBLIC BUILDING: DAMAGE, <$1000        18.2-138\n",
       "20321        PROFANE SWEARING OR INTOXICATION IN PUBLIC        5/1/2001"
      ]
     },
     "execution_count": 9,
     "metadata": {},
     "output_type": "execute_result"
    }
   ],
   "source": [
    "# Let's find statute descriptions with the word Drunk in them\n",
    "word_to_find = \"public\"\n",
    "\n",
    "col = df_all['Statute Description'].str.lower()\n",
    "has_word = col.str.contains(word_to_find.lower())\n",
    "\n",
    "# Let's also exclude words contain \"drunk\" since we already found those\n",
    "has_drunk = col.str.contains(\"drunk\")\n",
    "# Now, we have values containing drunk but we want values that don't contain drunk\n",
    "# The ~ before has_drunk converts all the Falses to Trues and Trues to Falses\n",
    "not_drunk = ~has_drunk\n",
    "\n",
    "has_word_but_not_drunk = has_word & (~has_drunk)\n",
    "\n",
    "unique_pairs = df_all[['Statute Description','Statute']][has_word_but_not_drunk].drop_duplicates()\n",
    "unique_pairs"
   ]
  },
  {
   "attachments": {},
   "cell_type": "markdown",
   "metadata": {},
   "source": [
    "We can now see that there is also PROFANE SWEARING OR INTOXICATION IN PUBLIC, ALCH BEV TEND/DRK IN PUBLIC (which introduces a new Statute code), and ALCOHOL: DRINKING/OFFER DRINK IN PUBLIC PLACE (which introduces a new Statute code)\n",
    "\n",
    "Now, let's find all Statute codes that contain 5/1/2001, 5-1-1, 5/1/2027, 4.1-308, or 18.2-388"
   ]
  },
  {
   "cell_type": "code",
   "execution_count": 10,
   "metadata": {},
   "outputs": [
    {
     "name": "stdout",
     "output_type": "stream",
     "text": [
      "The number of values in the list statutes is 4\n",
      "The value of s in this iteration is 5/1/2001\n",
      "The number of rows that contain any of the statutes after checking statute 5/1/2001 is 1943\n",
      "The value of s in this iteration is 5-1-1\n",
      "The number of rows that contain any of the statutes after checking statute 5-1-1 is 1946\n",
      "The value of s in this iteration is 18.2-388\n",
      "The number of rows that contain any of the statutes after checking statute 18.2-388 is 2318\n",
      "The value of s in this iteration is 5/1/2027\n",
      "The number of rows that contain any of the statutes after checking statute 5/1/2027 is 2375\n"
     ]
    },
    {
     "data": {
      "text/html": [
       "<div>\n",
       "<style scoped>\n",
       "    .dataframe tbody tr th:only-of-type {\n",
       "        vertical-align: middle;\n",
       "    }\n",
       "\n",
       "    .dataframe tbody tr th {\n",
       "        vertical-align: top;\n",
       "    }\n",
       "\n",
       "    .dataframe thead th {\n",
       "        text-align: right;\n",
       "    }\n",
       "</style>\n",
       "<table border=\"1\" class=\"dataframe\">\n",
       "  <thead>\n",
       "    <tr style=\"text-align: right;\">\n",
       "      <th></th>\n",
       "      <th>Statute Description</th>\n",
       "      <th>Statute</th>\n",
       "    </tr>\n",
       "  </thead>\n",
       "  <tbody>\n",
       "    <tr>\n",
       "      <th>1</th>\n",
       "      <td>DRUNK IN PUBLIC OR PROFANE</td>\n",
       "      <td>5/1/2001</td>\n",
       "    </tr>\n",
       "    <tr>\n",
       "      <th>22</th>\n",
       "      <td>PROFANE SWEARING OR INTOXICATION IN PUBLIC</td>\n",
       "      <td>18.2-388</td>\n",
       "    </tr>\n",
       "    <tr>\n",
       "      <th>885</th>\n",
       "      <td>ALCH BEV TEND/DRK  IN PUBLIC</td>\n",
       "      <td>5/1/2027</td>\n",
       "    </tr>\n",
       "    <tr>\n",
       "      <th>5555</th>\n",
       "      <td>DRUNK IN PUBLIC OR PROFANE</td>\n",
       "      <td>5-1-1 (18.2-388</td>\n",
       "    </tr>\n",
       "    <tr>\n",
       "      <th>12458</th>\n",
       "      <td>DRUNK IN PUBLIC OR PROFANE</td>\n",
       "      <td>18.2-388</td>\n",
       "    </tr>\n",
       "    <tr>\n",
       "      <th>13512</th>\n",
       "      <td>DRUNK IN PUBLIC OR PROFANE - 3X IN ONE YEAR</td>\n",
       "      <td>5-1-1(B)</td>\n",
       "    </tr>\n",
       "    <tr>\n",
       "      <th>20321</th>\n",
       "      <td>PROFANE SWEARING OR INTOXICATION IN PUBLIC</td>\n",
       "      <td>5/1/2001</td>\n",
       "    </tr>\n",
       "  </tbody>\n",
       "</table>\n",
       "</div>"
      ],
      "text/plain": [
       "                               Statute Description          Statute\n",
       "1                       DRUNK IN PUBLIC OR PROFANE         5/1/2001\n",
       "22      PROFANE SWEARING OR INTOXICATION IN PUBLIC         18.2-388\n",
       "885                   ALCH BEV TEND/DRK  IN PUBLIC         5/1/2027\n",
       "5555                    DRUNK IN PUBLIC OR PROFANE  5-1-1 (18.2-388\n",
       "12458                   DRUNK IN PUBLIC OR PROFANE         18.2-388\n",
       "13512  DRUNK IN PUBLIC OR PROFANE - 3X IN ONE YEAR         5-1-1(B)\n",
       "20321   PROFANE SWEARING OR INTOXICATION IN PUBLIC         5/1/2001"
      ]
     },
     "execution_count": 10,
     "metadata": {},
     "output_type": "execute_result"
    }
   ],
   "source": [
    "# This is a list of strings\n",
    "# The statute codes could be changed to look for other arrests \n",
    "statutes = [\"5/1/2001\", \"5-1-1\", \"18.2-388\", \"5/1/2027\"]\n",
    "\n",
    "print(f\"The number of values in the list statutes is {len(statutes)}\")\n",
    "\n",
    "has_any_statute = None\n",
    "# This for loop will run once for each value in statutes\n",
    "# In each iteration, the value of s will change to the next value in statutes\n",
    "for s in statutes:\n",
    "    print(f\"The value of s in this iteration is {s}\")\n",
    "    contains_statute = df_all[\"Statute\"].str.contains(s)\n",
    "    if has_any_statute is None:\n",
    "        # In the 1st iteration, set has_statute to contains_statute\n",
    "        has_any_statute = contains_statute\n",
    "    else:\n",
    "        # The | does an OR operation between each value of has_any_statute and the corresponding value of contains_statute\n",
    "        # If one or both values are True, the resulting value is True. Otherwise, it is False\n",
    "        # has_any_statute is replaced with the result of the OR operation\n",
    "        has_any_statute = has_any_statute | contains_statute\n",
    "        \n",
    "    # .sum() Takes the sum of the column has_any_statute\n",
    "    # For boolean (True or False) values, True = 1 and False = 0 so .sum() counts the number of Trues\n",
    "    print(f\"The number of rows that contain any of the statutes after checking statute {s} is {has_any_statute.sum()}\")\n",
    "\n",
    "# Let's check that this worked properly\n",
    "df_all[['Statute Description','Statute']][has_any_statute].drop_duplicates()\n"
   ]
  },
  {
   "cell_type": "code",
   "execution_count": 11,
   "metadata": {},
   "outputs": [],
   "source": [
    "# Let's create a DataFrame that only contains rows of the original table containing our statutes\n",
    "# df is a common variable name for a DataFrame\n",
    "df = df_all[has_any_statute]"
   ]
  },
  {
   "cell_type": "code",
   "execution_count": 12,
   "metadata": {},
   "outputs": [
    {
     "data": {
      "text/plain": [
       "Index(['OBJECTID', 'Arrest ID', 'Case Number', 'Arrest Date', 'Arrest Time',\n",
       "       'Arrestee Race', 'Arrestee Sex', 'Arrestee Age', 'Arrestee Ethnicity',\n",
       "       'Resident', 'PSA', 'Patrol Area', 'ESZ (Emergency Service Zones)',\n",
       "       'Arrest Type', 'Sequence Number', 'Statute', 'Statute Description',\n",
       "       'IBR Code', 'IBR Description', 'Felony or Misdemeanor',\n",
       "       'Arresting Officer Number', 'Officer Sex', 'Officer Race',\n",
       "       'Arrest Charge ID', 'Arrestee Name ID', 'X Coordinate', 'Y Coordinate',\n",
       "       'Station Name', 'Station Number', 'IDENTIFIER', 'DISTRICT_1',\n",
       "       'BOS Web Address ', 'BOS Phone Number', 'BOS Name', 'Year', 'race_eth'],\n",
       "      dtype='object')"
      ]
     },
     "execution_count": 12,
     "metadata": {},
     "output_type": "execute_result"
    }
   ],
   "source": [
    "# Just reminding about available columns\n",
    "df.columns"
   ]
  },
  {
   "cell_type": "code",
   "execution_count": 13,
   "metadata": {},
   "outputs": [
    {
     "data": {
      "text/plain": [
       "M    2375\n",
       "Name: Felony or Misdemeanor, dtype: int64"
      ]
     },
     "execution_count": 13,
     "metadata": {},
     "output_type": "execute_result"
    }
   ],
   "source": [
    "# Let's check the number of misdemeanors and felonies for drunk in public offenses\n",
    "df[\"Felony or Misdemeanor\"].value_counts()"
   ]
  },
  {
   "attachments": {},
   "cell_type": "markdown",
   "metadata": {},
   "source": [
    "All drunk in publics charges are misdemeanors"
   ]
  },
  {
   "cell_type": "code",
   "execution_count": 14,
   "metadata": {},
   "outputs": [
    {
     "data": {
      "text/plain": [
       "ON-VIEW ARREST        2074\n",
       "TAKEN INTO CUSTODY     218\n",
       "SUMMONED/ CITED         83\n",
       "Name: Arrest Type, dtype: int64"
      ]
     },
     "execution_count": 14,
     "metadata": {},
     "output_type": "execute_result"
    }
   ],
   "source": [
    "# Let's check the# of each arrests type\n",
    "df[\"Arrest Type\"].value_counts()"
   ]
  },
  {
   "cell_type": "code",
   "execution_count": 15,
   "metadata": {},
   "outputs": [
    {
     "data": {
      "text/plain": [
       "H    1149\n",
       "W     571\n",
       "B     555\n",
       "A      50\n",
       "U      43\n",
       "I       7\n",
       "Name: race_eth, dtype: int64"
      ]
     },
     "execution_count": 15,
     "metadata": {},
     "output_type": "execute_result"
    }
   ],
   "source": [
    "# Let's breakdown by race and ethnicity\n",
    "# value_counts identifies all unique values and their counts for a column\n",
    "df[\"race_eth\"].value_counts()"
   ]
  },
  {
   "cell_type": "code",
   "execution_count": 16,
   "metadata": {},
   "outputs": [
    {
     "data": {
      "text/plain": [
       "H    0.483789\n",
       "W    0.240421\n",
       "B    0.233684\n",
       "A    0.021053\n",
       "U    0.018105\n",
       "I    0.002947\n",
       "Name: race_eth, dtype: float64"
      ]
     },
     "execution_count": 16,
     "metadata": {},
     "output_type": "execute_result"
    }
   ],
   "source": [
    "# We can also normalize the value counts (i.e. show the ratios for each race/ethnicity)\n",
    "df[\"race_eth\"].value_counts(normalize=True)"
   ]
  },
  {
   "cell_type": "code",
   "execution_count": 17,
   "metadata": {},
   "outputs": [
    {
     "data": {
      "text/plain": [
       "H    48.378947\n",
       "W    24.042105\n",
       "B    23.368421\n",
       "A     2.105263\n",
       "U     1.810526\n",
       "I     0.294737\n",
       "Name: race_eth, dtype: float64"
      ]
     },
     "execution_count": 17,
     "metadata": {},
     "output_type": "execute_result"
    }
   ],
   "source": [
    "# Or if you'd rather have the value as a percent just multiply by 100\n",
    "df[\"race_eth\"].value_counts(normalize=True)*100"
   ]
  },
  {
   "cell_type": "code",
   "execution_count": 18,
   "metadata": {},
   "outputs": [
    {
     "data": {
      "text/plain": [
       "race_eth  Arrest Type       \n",
       "A         ON-VIEW ARREST          46\n",
       "          TAKEN INTO CUSTODY       4\n",
       "B         ON-VIEW ARREST         476\n",
       "          SUMMONED/ CITED         18\n",
       "          TAKEN INTO CUSTODY      61\n",
       "H         ON-VIEW ARREST        1008\n",
       "          SUMMONED/ CITED         53\n",
       "          TAKEN INTO CUSTODY      88\n",
       "I         ON-VIEW ARREST           6\n",
       "          TAKEN INTO CUSTODY       1\n",
       "U         ON-VIEW ARREST          38\n",
       "          SUMMONED/ CITED          1\n",
       "          TAKEN INTO CUSTODY       4\n",
       "W         ON-VIEW ARREST         500\n",
       "          SUMMONED/ CITED         11\n",
       "          TAKEN INTO CUSTODY      60\n",
       "dtype: int64"
      ]
     },
     "execution_count": 18,
     "metadata": {},
     "output_type": "execute_result"
    }
   ],
   "source": [
    "# Let's break this down by race_eth AND Arrest Type\n",
    "\n",
    "# The .groupby creates groups of unique combinations of the column names passed to it\n",
    "# You can then apply a function to each group.\n",
    "# In this case, we apply the function size to the group, which just outputs the number of items in the group\n",
    "# For example, let's assume we had two columns \"Animal\" which is [\"Dog\", \"Cat\", \"Dog\", \"Dog\"] and \"Color\" which is [\"Brown\", \"Brown\", \"White\", \"Brown\"]\n",
    "# 3 groups would be created [(\"Dog\", \"Brown\"), (\"Cat\", \"Brown\"), (\"Dog, \"White)]\n",
    "# The size of those groups would be [2, 1, 1] since there are 2 rows with \"Dog\" and \"Brown\" and 1 of each other combination\n",
    "# NOTE: You can learn more about all of the techniques used here by web searches. Most of the techniques are from the pandas library\n",
    "# so if you google \"python pandas groupby\", you will find documentation with explanations and examples\n",
    "df_sizes = df.groupby([\"race_eth\",\"Arrest Type\"]).size()\n",
    "df_sizes"
   ]
  },
  {
   "cell_type": "code",
   "execution_count": 19,
   "metadata": {},
   "outputs": [
    {
     "data": {
      "text/html": [
       "<div>\n",
       "<style scoped>\n",
       "    .dataframe tbody tr th:only-of-type {\n",
       "        vertical-align: middle;\n",
       "    }\n",
       "\n",
       "    .dataframe tbody tr th {\n",
       "        vertical-align: top;\n",
       "    }\n",
       "\n",
       "    .dataframe thead th {\n",
       "        text-align: right;\n",
       "    }\n",
       "</style>\n",
       "<table border=\"1\" class=\"dataframe\">\n",
       "  <thead>\n",
       "    <tr style=\"text-align: right;\">\n",
       "      <th>Arrest Type</th>\n",
       "      <th>ON-VIEW ARREST</th>\n",
       "      <th>SUMMONED/ CITED</th>\n",
       "      <th>TAKEN INTO CUSTODY</th>\n",
       "    </tr>\n",
       "    <tr>\n",
       "      <th>race_eth</th>\n",
       "      <th></th>\n",
       "      <th></th>\n",
       "      <th></th>\n",
       "    </tr>\n",
       "  </thead>\n",
       "  <tbody>\n",
       "    <tr>\n",
       "      <th>A</th>\n",
       "      <td>46.0</td>\n",
       "      <td>NaN</td>\n",
       "      <td>4.0</td>\n",
       "    </tr>\n",
       "    <tr>\n",
       "      <th>B</th>\n",
       "      <td>476.0</td>\n",
       "      <td>18.0</td>\n",
       "      <td>61.0</td>\n",
       "    </tr>\n",
       "    <tr>\n",
       "      <th>H</th>\n",
       "      <td>1008.0</td>\n",
       "      <td>53.0</td>\n",
       "      <td>88.0</td>\n",
       "    </tr>\n",
       "    <tr>\n",
       "      <th>I</th>\n",
       "      <td>6.0</td>\n",
       "      <td>NaN</td>\n",
       "      <td>1.0</td>\n",
       "    </tr>\n",
       "    <tr>\n",
       "      <th>U</th>\n",
       "      <td>38.0</td>\n",
       "      <td>1.0</td>\n",
       "      <td>4.0</td>\n",
       "    </tr>\n",
       "    <tr>\n",
       "      <th>W</th>\n",
       "      <td>500.0</td>\n",
       "      <td>11.0</td>\n",
       "      <td>60.0</td>\n",
       "    </tr>\n",
       "  </tbody>\n",
       "</table>\n",
       "</div>"
      ],
      "text/plain": [
       "Arrest Type  ON-VIEW ARREST  SUMMONED/ CITED  TAKEN INTO CUSTODY\n",
       "race_eth                                                        \n",
       "A                      46.0              NaN                 4.0\n",
       "B                     476.0             18.0                61.0\n",
       "H                    1008.0             53.0                88.0\n",
       "I                       6.0              NaN                 1.0\n",
       "U                      38.0              1.0                 4.0\n",
       "W                     500.0             11.0                60.0"
      ]
     },
     "execution_count": 19,
     "metadata": {},
     "output_type": "execute_result"
    }
   ],
   "source": [
    "# This doesn't print very nicely. Let's fix that.\n",
    "df_sizes = df.groupby([\"race_eth\",\"Arrest Type\"]).size().unstack()\n",
    "# Unstack takes ArrestType and makes it a column\n",
    "df_sizes"
   ]
  },
  {
   "cell_type": "code",
   "execution_count": 20,
   "metadata": {},
   "outputs": [
    {
     "data": {
      "text/plain": [
       "Arrest Type\n",
       "ON-VIEW ARREST        float64\n",
       "SUMMONED/ CITED       float64\n",
       "TAKEN INTO CUSTODY    float64\n",
       "dtype: object"
      ]
     },
     "execution_count": 20,
     "metadata": {},
     "output_type": "execute_result"
    }
   ],
   "source": [
    "# THe above looks better but...\n",
    "# 1. Combinations of race_eth and ArrestType that don't exist contain NaN (not a number) values\n",
    "# 2. The values are counts (integers) but are displayed as decimals (floats)\n",
    "\n",
    "# This lists the types of each columns\n",
    "df_sizes.dtypes"
   ]
  },
  {
   "cell_type": "code",
   "execution_count": 21,
   "metadata": {},
   "outputs": [
    {
     "data": {
      "text/plain": [
       "Arrest Type\n",
       "ON-VIEW ARREST        Int64\n",
       "SUMMONED/ CITED       Int64\n",
       "TAKEN INTO CUSTODY    Int64\n",
       "dtype: object"
      ]
     },
     "execution_count": 21,
     "metadata": {},
     "output_type": "execute_result"
    }
   ],
   "source": [
    "# fillna replaces null values (including NaN) with a value. We replace with 0 since there are 0 cases where NaN values are\n",
    "# convert_dtypes is a pandas function that sets the data type to the best possible type which in this case is integer (Int64 for 64 bit integer)\n",
    "# since all of the float values have 0's after the decimal place\n",
    "df_sizes = df_sizes.fillna(0).convert_dtypes()\n",
    "df_sizes.dtypes"
   ]
  },
  {
   "cell_type": "code",
   "execution_count": 22,
   "metadata": {},
   "outputs": [
    {
     "data": {
      "text/html": [
       "<div>\n",
       "<style scoped>\n",
       "    .dataframe tbody tr th:only-of-type {\n",
       "        vertical-align: middle;\n",
       "    }\n",
       "\n",
       "    .dataframe tbody tr th {\n",
       "        vertical-align: top;\n",
       "    }\n",
       "\n",
       "    .dataframe thead th {\n",
       "        text-align: right;\n",
       "    }\n",
       "</style>\n",
       "<table border=\"1\" class=\"dataframe\">\n",
       "  <thead>\n",
       "    <tr style=\"text-align: right;\">\n",
       "      <th>Arrest Type</th>\n",
       "      <th>ON-VIEW ARREST</th>\n",
       "      <th>SUMMONED/ CITED</th>\n",
       "      <th>TAKEN INTO CUSTODY</th>\n",
       "    </tr>\n",
       "    <tr>\n",
       "      <th>race_eth</th>\n",
       "      <th></th>\n",
       "      <th></th>\n",
       "      <th></th>\n",
       "    </tr>\n",
       "  </thead>\n",
       "  <tbody>\n",
       "    <tr>\n",
       "      <th>A</th>\n",
       "      <td>46</td>\n",
       "      <td>0</td>\n",
       "      <td>4</td>\n",
       "    </tr>\n",
       "    <tr>\n",
       "      <th>B</th>\n",
       "      <td>476</td>\n",
       "      <td>18</td>\n",
       "      <td>61</td>\n",
       "    </tr>\n",
       "    <tr>\n",
       "      <th>H</th>\n",
       "      <td>1008</td>\n",
       "      <td>53</td>\n",
       "      <td>88</td>\n",
       "    </tr>\n",
       "    <tr>\n",
       "      <th>I</th>\n",
       "      <td>6</td>\n",
       "      <td>0</td>\n",
       "      <td>1</td>\n",
       "    </tr>\n",
       "    <tr>\n",
       "      <th>U</th>\n",
       "      <td>38</td>\n",
       "      <td>1</td>\n",
       "      <td>4</td>\n",
       "    </tr>\n",
       "    <tr>\n",
       "      <th>W</th>\n",
       "      <td>500</td>\n",
       "      <td>11</td>\n",
       "      <td>60</td>\n",
       "    </tr>\n",
       "  </tbody>\n",
       "</table>\n",
       "</div>"
      ],
      "text/plain": [
       "Arrest Type  ON-VIEW ARREST  SUMMONED/ CITED  TAKEN INTO CUSTODY\n",
       "race_eth                                                        \n",
       "A                        46                0                   4\n",
       "B                       476               18                  61\n",
       "H                      1008               53                  88\n",
       "I                         6                0                   1\n",
       "U                        38                1                   4\n",
       "W                       500               11                  60"
      ]
     },
     "execution_count": 22,
     "metadata": {},
     "output_type": "execute_result"
    }
   ],
   "source": [
    "# Now let's re-display the table\n",
    "df_sizes"
   ]
  },
  {
   "cell_type": "code",
   "execution_count": 23,
   "metadata": {},
   "outputs": [],
   "source": [
    "# This table could be formatted further (such as change names of rows from A, B, H,... to Asian, Black, Latino,...)\n",
    "# However, let's just assume that you'll do any formatting in Excel\n",
    "# To output any DataFrame to a CSV file so that it can be loaded into Excel (or read back into a DataFrame later), you can use to_csv\n",
    "filename = \"RaceVsArrestType.csv\"\n",
    "# Save to RaceVsArrestType.csv in whatever directory where this Jupyter notebook file exists\n",
    "df_sizes.to_csv(filename)\n",
    "# NOTE: if you want to save to another directory\n",
    "# The \\ character is a special character that indicates that is used in combination with the character that follows it\n",
    "# For example, we used \\n earlier to create a new line\n",
    "# Therefore, if Python finds a \\ in your string, it will not print a \\, it will use that \\ in combination with the next character\n",
    "# This is annoying because Windows uses \\ to separate folder names\n",
    "# There are 2 ways around this:\n",
    "# 1. Use \\\\ instead of \\. The first slash indicates to base what is show on the next character. The next character of \\ indicates that a slash is to be shown.\n",
    "#   Example: \"C:\\\\Documents\\\\RaceVsArrestType.csv\" would be put the CSV file in C:\\Documents\n",
    "# 2. Preface the string with the letter r to indicate a raw string that does not use \\ formating\n",
    "#   Example: r\"C:\\Documents\\RaceVsArrestType.csv\""
   ]
  },
  {
   "cell_type": "code",
   "execution_count": 24,
   "metadata": {},
   "outputs": [
    {
     "data": {
      "text/html": [
       "<div>\n",
       "<style scoped>\n",
       "    .dataframe tbody tr th:only-of-type {\n",
       "        vertical-align: middle;\n",
       "    }\n",
       "\n",
       "    .dataframe tbody tr th {\n",
       "        vertical-align: top;\n",
       "    }\n",
       "\n",
       "    .dataframe thead th {\n",
       "        text-align: right;\n",
       "    }\n",
       "</style>\n",
       "<table border=\"1\" class=\"dataframe\">\n",
       "  <thead>\n",
       "    <tr style=\"text-align: right;\">\n",
       "      <th>Arrest Type</th>\n",
       "      <th>ON-VIEW ARREST</th>\n",
       "      <th>SUMMONED/ CITED</th>\n",
       "      <th>TAKEN INTO CUSTODY</th>\n",
       "    </tr>\n",
       "    <tr>\n",
       "      <th>race_eth</th>\n",
       "      <th></th>\n",
       "      <th></th>\n",
       "      <th></th>\n",
       "    </tr>\n",
       "  </thead>\n",
       "  <tbody>\n",
       "    <tr>\n",
       "      <th>A</th>\n",
       "      <td>2.217936</td>\n",
       "      <td>0.0</td>\n",
       "      <td>1.834862</td>\n",
       "    </tr>\n",
       "    <tr>\n",
       "      <th>B</th>\n",
       "      <td>22.95082</td>\n",
       "      <td>21.686747</td>\n",
       "      <td>27.981651</td>\n",
       "    </tr>\n",
       "    <tr>\n",
       "      <th>H</th>\n",
       "      <td>48.601736</td>\n",
       "      <td>63.855422</td>\n",
       "      <td>40.366972</td>\n",
       "    </tr>\n",
       "    <tr>\n",
       "      <th>I</th>\n",
       "      <td>0.289296</td>\n",
       "      <td>0.0</td>\n",
       "      <td>0.458716</td>\n",
       "    </tr>\n",
       "    <tr>\n",
       "      <th>U</th>\n",
       "      <td>1.832208</td>\n",
       "      <td>1.204819</td>\n",
       "      <td>1.834862</td>\n",
       "    </tr>\n",
       "    <tr>\n",
       "      <th>W</th>\n",
       "      <td>24.108004</td>\n",
       "      <td>13.253012</td>\n",
       "      <td>27.522936</td>\n",
       "    </tr>\n",
       "  </tbody>\n",
       "</table>\n",
       "</div>"
      ],
      "text/plain": [
       "Arrest Type  ON-VIEW ARREST  SUMMONED/ CITED  TAKEN INTO CUSTODY\n",
       "race_eth                                                        \n",
       "A                  2.217936              0.0            1.834862\n",
       "B                  22.95082        21.686747           27.981651\n",
       "H                 48.601736        63.855422           40.366972\n",
       "I                  0.289296              0.0            0.458716\n",
       "U                  1.832208         1.204819            1.834862\n",
       "W                 24.108004        13.253012           27.522936"
      ]
     },
     "execution_count": 24,
     "metadata": {},
     "output_type": "execute_result"
    }
   ],
   "source": [
    "# Again, we might want to show percentages instead of counts. \n",
    "# You might try the following:\n",
    "df_sizes / df_sizes.sum() * 100\n",
    "\n",
    "# However, this divides each column by its sum to give the % of each arrest type that is each race (i.e. columns add to 100)\n",
    "# However, you probably want to know if a certain group is more likely to get a certain type of arrest"
   ]
  },
  {
   "cell_type": "code",
   "execution_count": 25,
   "metadata": {},
   "outputs": [
    {
     "data": {
      "text/html": [
       "<div>\n",
       "<style scoped>\n",
       "    .dataframe tbody tr th:only-of-type {\n",
       "        vertical-align: middle;\n",
       "    }\n",
       "\n",
       "    .dataframe tbody tr th {\n",
       "        vertical-align: top;\n",
       "    }\n",
       "\n",
       "    .dataframe thead th {\n",
       "        text-align: right;\n",
       "    }\n",
       "</style>\n",
       "<table border=\"1\" class=\"dataframe\">\n",
       "  <thead>\n",
       "    <tr style=\"text-align: right;\">\n",
       "      <th>Arrest Type</th>\n",
       "      <th>ON-VIEW ARREST</th>\n",
       "      <th>SUMMONED/ CITED</th>\n",
       "      <th>TAKEN INTO CUSTODY</th>\n",
       "    </tr>\n",
       "    <tr>\n",
       "      <th>race_eth</th>\n",
       "      <th></th>\n",
       "      <th></th>\n",
       "      <th></th>\n",
       "    </tr>\n",
       "  </thead>\n",
       "  <tbody>\n",
       "    <tr>\n",
       "      <th>A</th>\n",
       "      <td>92.0</td>\n",
       "      <td>0.0</td>\n",
       "      <td>8.0</td>\n",
       "    </tr>\n",
       "    <tr>\n",
       "      <th>B</th>\n",
       "      <td>85.765766</td>\n",
       "      <td>3.243243</td>\n",
       "      <td>10.990991</td>\n",
       "    </tr>\n",
       "    <tr>\n",
       "      <th>H</th>\n",
       "      <td>87.72846</td>\n",
       "      <td>4.612707</td>\n",
       "      <td>7.658834</td>\n",
       "    </tr>\n",
       "    <tr>\n",
       "      <th>I</th>\n",
       "      <td>85.714286</td>\n",
       "      <td>0.0</td>\n",
       "      <td>14.285714</td>\n",
       "    </tr>\n",
       "    <tr>\n",
       "      <th>U</th>\n",
       "      <td>88.372093</td>\n",
       "      <td>2.325581</td>\n",
       "      <td>9.302326</td>\n",
       "    </tr>\n",
       "    <tr>\n",
       "      <th>W</th>\n",
       "      <td>87.565674</td>\n",
       "      <td>1.926445</td>\n",
       "      <td>10.507881</td>\n",
       "    </tr>\n",
       "  </tbody>\n",
       "</table>\n",
       "</div>"
      ],
      "text/plain": [
       "Arrest Type  ON-VIEW ARREST  SUMMONED/ CITED  TAKEN INTO CUSTODY\n",
       "race_eth                                                        \n",
       "A                      92.0              0.0                 8.0\n",
       "B                 85.765766         3.243243           10.990991\n",
       "H                  87.72846         4.612707            7.658834\n",
       "I                 85.714286              0.0           14.285714\n",
       "U                 88.372093         2.325581            9.302326\n",
       "W                 87.565674         1.926445           10.507881"
      ]
     },
     "execution_count": 25,
     "metadata": {},
     "output_type": "execute_result"
    }
   ],
   "source": [
    "# This takes a little more work but there are 2 fairly simple ways to do it\n",
    "\n",
    "# transpose swaps the columns and rows so now our columns are race/ethnicity and the operation in the above cell would work properly\n",
    "df_trans = df_sizes.transpose()\n",
    "result = df_trans / df_trans.sum() * 100\n",
    "# Let's transpose back so that race/ethnicity are rows again\n",
    "result.transpose()"
   ]
  },
  {
   "cell_type": "code",
   "execution_count": 26,
   "metadata": {},
   "outputs": [
    {
     "data": {
      "text/html": [
       "<div>\n",
       "<style scoped>\n",
       "    .dataframe tbody tr th:only-of-type {\n",
       "        vertical-align: middle;\n",
       "    }\n",
       "\n",
       "    .dataframe tbody tr th {\n",
       "        vertical-align: top;\n",
       "    }\n",
       "\n",
       "    .dataframe thead th {\n",
       "        text-align: right;\n",
       "    }\n",
       "</style>\n",
       "<table border=\"1\" class=\"dataframe\">\n",
       "  <thead>\n",
       "    <tr style=\"text-align: right;\">\n",
       "      <th>Arrest Type</th>\n",
       "      <th>ON-VIEW ARREST</th>\n",
       "      <th>SUMMONED/ CITED</th>\n",
       "      <th>TAKEN INTO CUSTODY</th>\n",
       "    </tr>\n",
       "    <tr>\n",
       "      <th>race_eth</th>\n",
       "      <th></th>\n",
       "      <th></th>\n",
       "      <th></th>\n",
       "    </tr>\n",
       "  </thead>\n",
       "  <tbody>\n",
       "    <tr>\n",
       "      <th>A</th>\n",
       "      <td>92.0</td>\n",
       "      <td>0.0</td>\n",
       "      <td>8.0</td>\n",
       "    </tr>\n",
       "    <tr>\n",
       "      <th>B</th>\n",
       "      <td>85.765766</td>\n",
       "      <td>3.243243</td>\n",
       "      <td>10.990991</td>\n",
       "    </tr>\n",
       "    <tr>\n",
       "      <th>H</th>\n",
       "      <td>87.72846</td>\n",
       "      <td>4.612707</td>\n",
       "      <td>7.658834</td>\n",
       "    </tr>\n",
       "    <tr>\n",
       "      <th>I</th>\n",
       "      <td>85.714286</td>\n",
       "      <td>0.0</td>\n",
       "      <td>14.285714</td>\n",
       "    </tr>\n",
       "    <tr>\n",
       "      <th>U</th>\n",
       "      <td>88.372093</td>\n",
       "      <td>2.325581</td>\n",
       "      <td>9.302326</td>\n",
       "    </tr>\n",
       "    <tr>\n",
       "      <th>W</th>\n",
       "      <td>87.565674</td>\n",
       "      <td>1.926445</td>\n",
       "      <td>10.507881</td>\n",
       "    </tr>\n",
       "  </tbody>\n",
       "</table>\n",
       "</div>"
      ],
      "text/plain": [
       "Arrest Type  ON-VIEW ARREST  SUMMONED/ CITED  TAKEN INTO CUSTODY\n",
       "race_eth                                                        \n",
       "A                      92.0              0.0                 8.0\n",
       "B                 85.765766         3.243243           10.990991\n",
       "H                  87.72846         4.612707            7.658834\n",
       "I                 85.714286              0.0           14.285714\n",
       "U                 88.372093         2.325581            9.302326\n",
       "W                 87.565674         1.926445           10.507881"
      ]
     },
     "execution_count": 26,
     "metadata": {},
     "output_type": "execute_result"
    }
   ],
   "source": [
    "# Method #2: Use the divide command\n",
    "\n",
    "# sum() sums down the rows (axis=0) by default, set axis=1 to sum across the columns\n",
    "# divide(x, axis=0) divides df_sizes by x and axis=0 indicates that what we are dividing by contains a separate value for each row\n",
    "df_sizes.divide(df_sizes.sum(axis=1), axis=0) * 100"
   ]
  },
  {
   "attachments": {},
   "cell_type": "markdown",
   "metadata": {},
   "source": [
    "### There are a few other things that you might want to do\n",
    "1. It may possible that some people are charge with Drunk in Public multiple times in the same arrest. Maybe you only want to count each one once\n",
    "2. It also may be possible that (A) people who arrested for being Drunk in Public were actually arrested for doing something more serious and the Drunk in Public was only a secondary charge OR (B) the presence of other charges affects Arrest Type\n",
    "3. Check if the same people are being arrested repeatedly for drunk in public using the Arrestee Name ID column\n",
    "\n",
    "**RELATED NOTE Regarding Point 2 Above**: *It was previously shown that when someone is arrested for driving without a license (DWOL), they are almost always also charged with something else. This means that Fairfax County Police were rarely arresting someone for only DWOL (they may give a citation or warning instead). It was not examined what the something else was but since DWOL is pretty minor, it was assumed that Fairfax County Police mainly were arresting people for more serious offenses and in those cases was also charging for DWOL rather than giving a citation for DWOL.*\n",
    "\n",
    "It was previously found that an arrest of an individual for multiple charges can be identified:\n",
    "1. The Case # indicates all charges associated with a single incidents. *Multiple* people can receive a charge for a given Case #.\n",
    "2. The Arrest ID is unique to an individual for a given case #. However, the Arrest ID may be re-used for a different case #'s\n",
    "3. We can identify all the charges for an individual in a single arrest by finding unique combinations of case # and arrest ID"
   ]
  },
  {
   "cell_type": "code",
   "execution_count": 27,
   "metadata": {},
   "outputs": [
    {
     "name": "stdout",
     "output_type": "stream",
     "text": [
      "Case # has 1008 nulls out of 2375 rows\n",
      "Arrest ID has 0 nulls out of 2375 rows\n"
     ]
    }
   ],
   "source": [
    "# Let's first remove any cases where someone is charged for Drunk In Public more than once\n",
    "# We can do this by dropping duplicate pairs of \"Case Number\" and \"Arrest ID\" from df (our DataFrame that contains only rows for Drunk in Public)\n",
    "\n",
    "# Before we do this with Case Number and Arrest ID, we should check if there are any empty/null values in Case Number and Arrest ID\n",
    "# isnull() returns True if the value at the row and column is null (which in this case is equivalent to empty).\n",
    "# df[[\"Case Number\", \"Arrest ID\"]].isnull() will have 2 columns: the first will indicate where Case Number is null and the 2nd where Arrest ID is null\n",
    "# .sum() will sum down the columns to give us the number of nulls\n",
    "num_nulls = df[[\"Case Number\", \"Arrest ID\"]].isnull().sum()\n",
    "print(f\"Case # has {num_nulls[0]} nulls out of {len(df)} rows\")\n",
    "print(f\"Arrest ID has {num_nulls[1]} nulls out of {len(df)} rows\")"
   ]
  },
  {
   "attachments": {},
   "cell_type": "markdown",
   "metadata": {},
   "source": [
    "Arrest ID has no null which is good.\n",
    "Case number has a lot of nulls. We need to figure out how to deal with these.\n",
    "We could:\n",
    "1. Assume that Arrest IDs are mostly unique and ignore this issue assuming that it will have little effect \n",
    "2. Incorporate some other information that increases likelihood that we have an arrest ID for a single case # (which is unknown) and Arrest ID. Perhaps, this could be the date and/or time of an arrest but then we would have to check that the date and/or time don't change for a single case # and Arrest ID.\n",
    "\n",
    "Let's test out option 1 first because it's easier"
   ]
  },
  {
   "cell_type": "code",
   "execution_count": 28,
   "metadata": {},
   "outputs": [
    {
     "name": "stdout",
     "output_type": "stream",
     "text": [
      "There are 3 Arrest IDs that are repeated a total of 6 times out of (15451 0.04%) rows in our table\n"
     ]
    }
   ],
   "source": [
    "# Let's go back to the full arrests table and check how many repeated arrest IDs there are\n",
    "# Recall that .drop_duplicates() keeps only the unique rows (i.e. the combination of values in the row are unique)\n",
    "tmp = t.table[[\"Case Number\", \"Arrest ID\"]].drop_duplicates()\n",
    "# Let's get the value counts\n",
    "vc = tmp[\"Arrest ID\"].value_counts()\n",
    "# Let's keep only the value counts that are repeated (i.e. there are more than 1 of them)\n",
    "vc = vc[vc>1]\n",
    "\n",
    "# len gets the length of something which for DataFrames and Series gets us the number of rows\n",
    "# The :.2f in the 3rd calculated value below just formats the result to only show 2 decimal places\n",
    "print(f\"There are {len(vc)} Arrest IDs that are repeated a total of {vc.sum()} times out of ({len(tmp)} {vc.sum()/len(tmp)*100:.2f}%) rows in our table\")"
   ]
  },
  {
   "attachments": {},
   "cell_type": "markdown",
   "metadata": {},
   "source": [
    "0.04% means that the Arrest ID is almost unique so Option 1 above is an acceptable way of dealing with the empty Case #'s"
   ]
  },
  {
   "cell_type": "code",
   "execution_count": 29,
   "metadata": {},
   "outputs": [
    {
     "name": "stdout",
     "output_type": "stream",
     "text": [
      "There are 10 cases where a person is charged multiple times for Drunk in Public for a total of 20 out of 2375 charges\n"
     ]
    }
   ],
   "source": [
    "# Now let's check if there are any cases where someone is charged with Drunk in Public multiple times\n",
    "\n",
    "# .duplicated returns True for duplicated cases for each row based on the columns indicated in subset\n",
    "# In this case, we are looking for duplicated Case Number / Arrest ID pairs\n",
    "# keep=False indicates to mark all values that are duplicated as True. You can also choose to mark one (either 'first' or 'last') as False which is useful in some cases\n",
    "has_multiple_cases = df.duplicated(subset=[\"Case Number\", \"Arrest ID\"], keep=False)\n",
    "# Create a new table with only the duplicates\n",
    "df_multiple = df[has_multiple_cases]\n",
    "# Find the # of unique Case Number / Arrest ID pairs in df_multiple by finding the # of rows in the table after duplicate values of Case # / Arrest ID have been removed\n",
    "num_unique_cases = len(df_multiple[[\"Case Number\", \"Arrest ID\"]].drop_duplicates())\n",
    "\n",
    "print(f\"There are {num_unique_cases} cases where a person is charged multiple times for Drunk in Public for a total of {len(df_multiple)} out of {len(df)} charges\")\n"
   ]
  },
  {
   "attachments": {},
   "cell_type": "markdown",
   "metadata": {},
   "source": [
    "There aren't many cases where someone is charged more than once for Drunk in Public. It's not going to much of a difference whether you keep or drop them. I would just drop them because in case someone asks about it, answering that you dropped them will likely be the most satisfactory answer and also add confidence to the audience about your decision-making during the analysis\n",
    "\n",
    "Before we drop them, let's explore the duplicated cases a bit..."
   ]
  },
  {
   "cell_type": "code",
   "execution_count": 30,
   "metadata": {},
   "outputs": [
    {
     "data": {
      "text/html": [
       "<div>\n",
       "<style scoped>\n",
       "    .dataframe tbody tr th:only-of-type {\n",
       "        vertical-align: middle;\n",
       "    }\n",
       "\n",
       "    .dataframe tbody tr th {\n",
       "        vertical-align: top;\n",
       "    }\n",
       "\n",
       "    .dataframe thead th {\n",
       "        text-align: right;\n",
       "    }\n",
       "</style>\n",
       "<table border=\"1\" class=\"dataframe\">\n",
       "  <thead>\n",
       "    <tr style=\"text-align: right;\">\n",
       "      <th>Statute Description</th>\n",
       "      <th>ALCH BEV TEND/DRK  IN PUBLIC</th>\n",
       "      <th>DRUNK IN PUBLIC OR PROFANE</th>\n",
       "    </tr>\n",
       "    <tr>\n",
       "      <th>race_eth</th>\n",
       "      <th></th>\n",
       "      <th></th>\n",
       "    </tr>\n",
       "  </thead>\n",
       "  <tbody>\n",
       "    <tr>\n",
       "      <th>B</th>\n",
       "      <td>3</td>\n",
       "      <td>3</td>\n",
       "    </tr>\n",
       "    <tr>\n",
       "      <th>H</th>\n",
       "      <td>6</td>\n",
       "      <td>6</td>\n",
       "    </tr>\n",
       "    <tr>\n",
       "      <th>W</th>\n",
       "      <td>1</td>\n",
       "      <td>1</td>\n",
       "    </tr>\n",
       "  </tbody>\n",
       "</table>\n",
       "</div>"
      ],
      "text/plain": [
       "Statute Description  ALCH BEV TEND/DRK  IN PUBLIC  DRUNK IN PUBLIC OR PROFANE\n",
       "race_eth                                                                     \n",
       "B                                               3                           3\n",
       "H                                               6                           6\n",
       "W                                               1                           1"
      ]
     },
     "execution_count": 30,
     "metadata": {},
     "output_type": "execute_result"
    }
   ],
   "source": [
    "# Let's look at the statute description and race/ethnicity for duplicated cases\n",
    "df_multiple.groupby([\"race_eth\", \"Statute Description\"]).size().unstack()"
   ]
  },
  {
   "attachments": {},
   "cell_type": "markdown",
   "metadata": {},
   "source": [
    "For all duplicated cases, someone was charged with both ALCH BEV TEND/DRK IN PUBLIC\tand DRUNK IN PUBLIC OR PROFANE. I think it's safe to drop these."
   ]
  },
  {
   "cell_type": "code",
   "execution_count": 31,
   "metadata": {},
   "outputs": [],
   "source": [
    "# Let's create a new table where we have dropped the duplicates\n",
    "# drop_duplicates(subset=[\"Case Number\", \"Arrest ID\"]) only considers columns Case Number and Arrest ID when dropping duplicates.\n",
    "# When we were using drop_duplicates before with no inputs (i.e. drop_duplicates()), it was only keeping the row if the entire row was unique\n",
    "# Now, we keep rows where Case Number and Arrest ID are unique\n",
    "df_no_dups = df.drop_duplicates(subset=[\"Case Number\", \"Arrest ID\"])"
   ]
  },
  {
   "cell_type": "code",
   "execution_count": 32,
   "metadata": {},
   "outputs": [
    {
     "name": "stdout",
     "output_type": "stream",
     "text": [
      "Percentages BEFORE duplicates dropped:\n",
      "Arrest Type  ON-VIEW ARREST  SUMMONED/ CITED  TAKEN INTO CUSTODY\n",
      "race_eth                                                        \n",
      "A                      92.0              0.0                 8.0\n",
      "B                      85.8              3.2                11.0\n",
      "H                      87.7              4.6                 7.7\n",
      "I                      85.7              0.0                14.3\n",
      "U                      88.4              2.3                 9.3\n",
      "W                      87.6              1.9                10.5\n",
      "\n",
      "\n",
      "Percentages AFTER duplicates dropped:\n",
      "Arrest Type  ON-VIEW ARREST  SUMMONED/ CITED  TAKEN INTO CUSTODY\n",
      "race_eth                                                        \n",
      "A                      92.0              0.0                 8.0\n",
      "B                      85.7              3.3                11.1\n",
      "H                      87.7              4.6                 7.7\n",
      "I                      85.7              0.0                14.3\n",
      "U                      88.4              2.3                 9.3\n",
      "W                      87.5              1.9                10.5\n"
     ]
    }
   ],
   "source": [
    "# Let's look at arrest types by race/ethnicity for our table with duplicates dropped\n",
    "\n",
    "# Same operation previously done across multiple cells rolled up into a single line of code\n",
    "df_sizes_no_dups = df_no_dups.groupby([\"race_eth\",\"Arrest Type\"]).size().unstack().fillna(0).convert_dtypes()\n",
    "\n",
    "print(\"Percentages BEFORE duplicates dropped:\")\n",
    "# Putting the below in parentheses allows calling functions on the resulting DataFrame after multiplication\n",
    "# .round(1) rounds to 1 decimal place\n",
    "print((df_sizes.divide(df_sizes.sum(axis=1), axis=0) * 100).round(1))\n",
    "\n",
    "print(\"\\n\\nPercentages AFTER duplicates dropped:\")\n",
    "print((df_sizes_no_dups.divide(df_sizes_no_dups.sum(axis=1), axis=0) * 100).round(1))"
   ]
  },
  {
   "attachments": {},
   "cell_type": "markdown",
   "metadata": {},
   "source": [
    "Not suprisingly the change is small because we only dropped a few cases\n",
    "\n",
    "Now, let's check the Arrestee Name ID to see how often the same people are getting arrested for Drunk in Public"
   ]
  },
  {
   "cell_type": "code",
   "execution_count": 33,
   "metadata": {},
   "outputs": [
    {
     "data": {
      "text/plain": [
       "123804471    49\n",
       "2558299      24\n",
       "123912580    13\n",
       "124523924    13\n",
       "285512       12\n",
       "124356229    10\n",
       "2610946      10\n",
       "3129951       9\n",
       "3030597       9\n",
       "124246336     9\n",
       "Name: Arrestee Name ID, dtype: int64"
      ]
     },
     "execution_count": 33,
     "metadata": {},
     "output_type": "execute_result"
    }
   ],
   "source": [
    "# The result of value_counts is sorted\n",
    "# If a number is input to head(), the number of rows at the top of the tail that are printed is that number instead of the default 5\n",
    "df_no_dups[\"Arrestee Name ID\"].value_counts().head(10)"
   ]
  },
  {
   "attachments": {},
   "cell_type": "markdown",
   "metadata": {},
   "source": [
    "Some of the people arrested for Drunk in Public are being arrested many times"
   ]
  },
  {
   "cell_type": "code",
   "execution_count": 34,
   "metadata": {},
   "outputs": [
    {
     "name": "stdout",
     "output_type": "stream",
     "text": [
      "929 charges out of 2365 total (39.28%) are for individuals arrested at least 2 times\n"
     ]
    }
   ],
   "source": [
    "# Let's see what percentage of the arrests are for the same people\n",
    "\n",
    "# This could be varied to evaluate different cases\n",
    "threshold = 2\n",
    "\n",
    "vc = df_no_dups[\"Arrestee Name ID\"].value_counts()\n",
    "# Remove value counts that do not exceed the threshold\n",
    "vc_exceed_thresh = vc[vc>=threshold]\n",
    "\n",
    "count = vc_exceed_thresh.sum()\n",
    "total = len(df_no_dups)\n",
    "print(f\"{count} charges out of {total} total ({count/total*100:.2f}%) are for individuals arrested at least {threshold} times\")"
   ]
  },
  {
   "attachments": {},
   "cell_type": "markdown",
   "metadata": {},
   "source": [
    "A few things could be done with this information including:\n",
    "1. Examine race/ethnicity only counting each individual once\n",
    "2. Examine race/ethnicity of individuals arrested more than once"
   ]
  },
  {
   "cell_type": "code",
   "execution_count": 35,
   "metadata": {},
   "outputs": [
    {
     "name": "stdout",
     "output_type": "stream",
     "text": [
      "Percentages for all cases (Total: 2365):\n",
      "H    48.3\n",
      "W    24.1\n",
      "B    23.3\n",
      "A     2.1\n",
      "U     1.8\n",
      "I     0.3\n",
      "Name: race_eth, dtype: float64\n",
      "\n",
      "\n",
      "Percentages for unique individuals (Total: 1717):\n",
      "H    49.0\n",
      "W    23.5\n",
      "B    22.5\n",
      "U     2.4\n",
      "A     2.3\n",
      "I     0.2\n",
      "Name: race_eth, dtype: float64\n"
     ]
    }
   ],
   "source": [
    "# Let's look at only counting each individual once first\n",
    "df_each_ind_once = df_no_dups.drop_duplicates(subset=\"Arrestee Name ID\")\n",
    "\n",
    "print(f\"Percentages for all cases (Total: {len(df_no_dups)}):\")\n",
    "print(df_no_dups[\"race_eth\"].value_counts(normalize=True).round(3)*100)\n",
    "\n",
    "print(f\"\\n\\nPercentages for unique individuals (Total: {len(df_each_ind_once)}):\")\n",
    "print(df_each_ind_once[\"race_eth\"].value_counts(normalize=True).round(3)*100)"
   ]
  },
  {
   "attachments": {},
   "cell_type": "markdown",
   "metadata": {},
   "source": [
    "The percentages for each race are pretty similar for both all cases and when only unique individuals are counted\n",
    "\n",
    "Now, let's focus on individuals arrests multiple times"
   ]
  },
  {
   "cell_type": "code",
   "execution_count": 48,
   "metadata": {},
   "outputs": [
    {
     "name": "stdout",
     "output_type": "stream",
     "text": [
      "Counts for all cases (Total: 2365):\n",
      "H    1143\n",
      "W     570\n",
      "B     552\n",
      "A      50\n",
      "U      43\n",
      "I       7\n",
      "Name: race_eth, dtype: int64\n",
      "\n",
      "\n",
      "Counts for individuals arrests multiple times (Total: 281):\n",
      "H    127\n",
      "B     80\n",
      "W     64\n",
      "A      7\n",
      "U      2\n",
      "I      1\n",
      "Name: race_eth, dtype: int64\n",
      "\n",
      "\n",
      "Percentages for all cases (Total: 2365):\n",
      "H    48.3\n",
      "W    24.1\n",
      "B    23.3\n",
      "A     2.1\n",
      "U     1.8\n",
      "I     0.3\n",
      "Name: race_eth, dtype: float64\n",
      "\n",
      "\n",
      "Percentages for individuals arrests multiple times (Total: 281):\n",
      "H    45.2\n",
      "B    28.5\n",
      "W    22.8\n",
      "A     2.5\n",
      "U     0.7\n",
      "I     0.4\n",
      "Name: race_eth, dtype: float64\n"
     ]
    }
   ],
   "source": [
    "\n",
    "threshold = 2  # This could be varied to evaluate different cases\n",
    "\n",
    "vc = df_no_dups[\"Arrestee Name ID\"].value_counts()\n",
    "# Remove value counts that do not exceed the threshold\n",
    "vc_exceed_thresh = vc[vc>=threshold]\n",
    "\n",
    "# The row labels are termed indices and can be accessed with .index\n",
    "name_ids_for_exceeds = vc_exceed_thresh.index\n",
    "\n",
    "# Let's create a DataFrame that only contains the names in name_ids_for_exceeds\n",
    "\n",
    "# .isin(name_ids_for_exceeds) is True for values that are in name_ids_for_exceeds\n",
    "has_matching_name = df_no_dups[\"Arrestee Name ID\"].isin(name_ids_for_exceeds)\n",
    "\n",
    "# Let's only keep one row per name so that each is only counted once when we look at race/ethnicity\n",
    "df_exceeds = df_no_dups[has_matching_name].drop_duplicates(subset=\"Arrestee Name ID\")\n",
    "\n",
    "print(f\"Counts for all cases (Total: {len(df_no_dups)}):\")\n",
    "print(df_no_dups[\"race_eth\"].value_counts())\n",
    "\n",
    "print(f\"\\n\\nCounts for individuals arrests multiple times (Total: {len(df_exceeds)}):\")\n",
    "print(df_exceeds[\"race_eth\"].value_counts())\n",
    "\n",
    "print(f\"\\n\\nPercentages for all cases (Total: {len(df_no_dups)}):\")\n",
    "print(df_no_dups[\"race_eth\"].value_counts(normalize=True).round(3)*100)\n",
    "\n",
    "print(f\"\\n\\nPercentages for individuals arrests multiple times (Total: {len(df_exceeds)}):\")\n",
    "print(df_exceeds[\"race_eth\"].value_counts(normalize=True).round(3)*100)"
   ]
  },
  {
   "attachments": {},
   "cell_type": "markdown",
   "metadata": {},
   "source": [
    "Of people arrests at least twice, there is a slightly higher proportion that are Black and slighly lower that are Latino and White\n",
    "\n",
    "Finally, let's check the frequency that Drunk in Public arrests are also accompanied by other charges"
   ]
  },
  {
   "cell_type": "code",
   "execution_count": 37,
   "metadata": {},
   "outputs": [
    {
     "name": "stdout",
     "output_type": "stream",
     "text": [
      "Found 3447 values in the entire Arrests Table with the same Arrest ID and Case # as any of the 2365 Drunk in Public arrests\n",
      "Since all the Drunk in Public arrests will also be matches, there are 1082 additional arrests found (which includes previously dropped duplicates)\n"
     ]
    }
   ],
   "source": [
    "# This is going to be a little trickier. We need to look up the case numbers in our Drunk in Public DataFrame df_no_dups \n",
    "# that are also in our DataFrame of all arrests df_all\n",
    "\n",
    "def arrest_isin(x, other_df):\n",
    "    # Find cases where the case # and arrest ID of x are in other_df\n",
    "\n",
    "    # Case number can sometimes be null and nulls don't always equal other nulls so handle this case separately\n",
    "    if pd.isnull(x[\"Case Number\"]):  \n",
    "        # If x[\"Case Number\"] is null / empty, this part of the code will run\n",
    "        case_num_matches = other_df[\"Case Number\"].isnull()\n",
    "    else:\n",
    "        # If x[\"Case Number\"] is NOT null / empty, this part of the code will run\n",
    "        # The double equals sign == indicates to compare if 2 things are equal\n",
    "        # In this case, it compares each value of the column Case Number in other_df to the single value of x[\"Case Number\"] since x will be single row of df_no_dups\n",
    "        case_num_matches = other_df[\"Case Number\"]==x[\"Case Number\"]\n",
    "\n",
    "    arrest_id_matches = other_df[\"Arrest ID\"]==x[\"Arrest ID\"]\n",
    "\n",
    "    # Find cases where both case number and arrest ID match\n",
    "    matches = case_num_matches & arrest_id_matches\n",
    "\n",
    "    # If any value in matches is True, then the Case Number and Arrest ID are in other_df and we want to return True\n",
    "    # .any() returns True if any value in matches is True and False otherwise\n",
    "    return matches.any()\n",
    "\n",
    "    \n",
    "# If you use apply without the args command, the function will have 1 input (an individual row). This is what we did last time\n",
    "# By setting args, we can pass in more than 1 argument. The value of other_df in arrest_isin will be df_no_dups\n",
    "matches_in_full_table = df_all[[\"Case Number\", \"Arrest ID\"]].apply(arrest_isin, axis=1, args=(df_no_dups,))\n",
    "\n",
    "num_matches = matches_in_full_table.sum()\n",
    "print(f\"Found {num_matches} values in the entire Arrests Table with the same Arrest ID and Case # as any of the {len(df_no_dups)} Drunk in Public arrests\")\n",
    "print(f\"Since all the Drunk in Public arrests will also be matches, there are {num_matches - len(df_no_dups)} additional arrests found (which includes previously dropped duplicates)\")\n",
    "\n"
   ]
  },
  {
   "attachments": {},
   "cell_type": "markdown",
   "metadata": {},
   "source": [
    "Let's look at:\n",
    "1. What the other charges are in cases involved in drunk in public\n",
    "2. The race/ethnicity of individuals arrestsed for only drunk in public"
   ]
  },
  {
   "cell_type": "code",
   "execution_count": 38,
   "metadata": {},
   "outputs": [
    {
     "name": "stdout",
     "output_type": "stream",
     "text": [
      "There are 1072 charges identified that are not Drunk in Public\n",
      "\n",
      "There are 127 unique statutes found with the most popular being:\n"
     ]
    },
    {
     "data": {
      "text/plain": [
       "ASSAULT: ON LAW ENF/JUDGE/DOC/FIRE/EMERG PERSON    76\n",
       "ASSAULT: (MISDEMEANOR)                             75\n",
       "OBSTRUCT JUSTICE: W/O THREATS/FORCE                71\n",
       "DISORDERLY CONDUCT                                 62\n",
       "TRESPASS: AFTER BEING FORBIDDEN TO DO SO           60\n",
       "DRUGS: POSSESS SCH I OR II                         58\n",
       "PETIT LARCENY: <$200 NOT FROM A PERSON             49\n",
       "FALSE IDENTIFY SELF TO LAW ENFORCEMENT             48\n",
       "TRESPASS-POSTED OR ADVISED TO LV                   39\n",
       "OBSTRUCT JUSTICE: W/ THREATS/FORCE                 35\n",
       "Name: Statute Description, dtype: int64"
      ]
     },
     "execution_count": 38,
     "metadata": {},
     "output_type": "execute_result"
    }
   ],
   "source": [
    "# To examine the other charges, let's create a table from the matches that excludes the Drunk in Public Arrests\n",
    "\n",
    "df_other = df_all[matches_in_full_table]\n",
    "\n",
    "# In order to remove Drunk in Public, let's exclude the values of Statute that are also in our Drunk in Public table\n",
    "df_other = df_other[~df_other[\"Statute\"].isin(df_no_dups[\"Statute\"].unique())]\n",
    "\n",
    "print(f\"There are {len(df_other)} charges identified that are not Drunk in Public\\n\")\n",
    "\n",
    "vc = df_other[\"Statute Description\"].value_counts()\n",
    "\n",
    "print(f\"There are {len(vc)} unique statutes found with the most popular being:\")\n",
    "vc.head(10)"
   ]
  },
  {
   "cell_type": "code",
   "execution_count": 39,
   "metadata": {},
   "outputs": [
    {
     "name": "stdout",
     "output_type": "stream",
     "text": [
      "There are 670 arrets for Drunk in Public with 1 charge out of 2365 (28.33%)\n"
     ]
    }
   ],
   "source": [
    "# Now, let's look at the race/ethnicity of individuals only charged with Drunk in Public\n",
    "\n",
    "# We can use the same arrestisin function but in reverse\n",
    "matches_single_charge = df_no_dups[[\"Case Number\", \"Arrest ID\"]].apply(arrest_isin, axis=1, args=(df_other,))\n",
    "\n",
    "print(f\"There are {matches_single_charge.sum()} arrets for Drunk in Public with 1 charge out of {len(df_no_dups)} ({matches_single_charge.sum()/len(df_no_dups)*100:.2f}%)\")"
   ]
  },
  {
   "cell_type": "code",
   "execution_count": 42,
   "metadata": {},
   "outputs": [
    {
     "name": "stdout",
     "output_type": "stream",
     "text": [
      "Counts for all arrests for Drunk in Public:\n",
      "Arrest Type  ON-VIEW ARREST  SUMMONED/ CITED  TAKEN INTO CUSTODY\n",
      "race_eth                                                        \n",
      "A                        46                0                   4\n",
      "B                       473               18                  61\n",
      "H                      1002               53                  88\n",
      "I                         6                0                   1\n",
      "U                        38                1                   4\n",
      "W                       499               11                  60\n",
      "\n",
      "\n",
      "Counts for single-charge arrests for Drunk in Public:\n",
      "Arrest Type  ON-VIEW ARREST  SUMMONED/ CITED  TAKEN INTO CUSTODY\n",
      "race_eth                                                        \n",
      "A                         7                0                   0\n",
      "B                       171                4                  25\n",
      "H                       278                3                  23\n",
      "I                         3                0                   0\n",
      "U                         8                0                   1\n",
      "W                       131                2                  14\n",
      "\n",
      "\n",
      "Percentages for all arrests for Drunk in Public:\n",
      "Arrest Type  ON-VIEW ARREST  SUMMONED/ CITED  TAKEN INTO CUSTODY\n",
      "race_eth                                                        \n",
      "A                      92.0              0.0                 8.0\n",
      "B                      85.7              3.3                11.1\n",
      "H                      87.7              4.6                 7.7\n",
      "I                      85.7              0.0                14.3\n",
      "U                      88.4              2.3                 9.3\n",
      "W                      87.5              1.9                10.5\n",
      "\n",
      "\n",
      "Percentages for single-charge arrests for Drunk in Public:\n",
      "Arrest Type  ON-VIEW ARREST  SUMMONED/ CITED  TAKEN INTO CUSTODY\n",
      "race_eth                                                        \n",
      "A                     100.0              0.0                 0.0\n",
      "B                      85.5              2.0                12.5\n",
      "H                      91.4              1.0                 7.6\n",
      "I                     100.0              0.0                 0.0\n",
      "U                      88.9              0.0                11.1\n",
      "W                      89.1              1.4                 9.5\n"
     ]
    }
   ],
   "source": [
    "df_single_charge = df_no_dups[matches_single_charge]\n",
    "df_sizes_single_charge = df_single_charge.groupby([\"race_eth\",\"Arrest Type\"]).size().unstack().fillna(0).convert_dtypes()\n",
    "\n",
    "print(\"Counts for all arrests for Drunk in Public:\")\n",
    "print(df_sizes_no_dups)\n",
    "\n",
    "print(\"\\n\\nCounts for single-charge arrests for Drunk in Public:\")\n",
    "print(df_sizes_single_charge)\n",
    "\n",
    "print(\"\\n\\nPercentages for all arrests for Drunk in Public:\")\n",
    "print((df_sizes_no_dups.divide(df_sizes_no_dups.sum(axis=1), axis=0) * 100).round(1))\n",
    "\n",
    "print(\"\\n\\nPercentages for single-charge arrests for Drunk in Public:\")\n",
    "print((df_sizes_single_charge.divide(df_sizes_single_charge.sum(axis=1), axis=0) * 100).round(1))"
   ]
  },
  {
   "cell_type": "code",
   "execution_count": 44,
   "metadata": {},
   "outputs": [
    {
     "data": {
      "text/plain": [
       "123804471    10\n",
       "2610946       8\n",
       "123912580     8\n",
       "124246336     6\n",
       "2465016       4\n",
       "124341716     4\n",
       "285512        4\n",
       "124271338     4\n",
       "124389730     4\n",
       "124296344     4\n",
       "Name: Arrestee Name ID, dtype: int64"
      ]
     },
     "execution_count": 44,
     "metadata": {},
     "output_type": "execute_result"
    }
   ],
   "source": [
    "# Let's check the names for the single charge arrests\n",
    "df_single_charge[\"Arrestee Name ID\"].value_counts().head(10)"
   ]
  },
  {
   "cell_type": "code",
   "execution_count": 45,
   "metadata": {},
   "outputs": [
    {
     "name": "stdout",
     "output_type": "stream",
     "text": [
      "189 charges out of 670 total (28.21%) are for individuals arrested at least 2 times\n"
     ]
    }
   ],
   "source": [
    "# Let's see what percentage of the arrests are for the same people\n",
    "\n",
    "# This could be varied to evaluate different cases\n",
    "threshold = 2\n",
    "\n",
    "vc = df_single_charge[\"Arrestee Name ID\"].value_counts()\n",
    "# Remove value counts that do not exceed the threshold\n",
    "vc_exceed_thresh = vc[vc>=threshold]\n",
    "\n",
    "count = vc_exceed_thresh.sum()\n",
    "total = len(df_single_charge)\n",
    "print(f\"{count} charges out of {total} total ({count/total*100:.2f}%) are for individuals arrested at least {threshold} times\")\n",
    "print(\"This is lower than for all Drunk in Public arrests\")"
   ]
  },
  {
   "cell_type": "code",
   "execution_count": 50,
   "metadata": {},
   "outputs": [
    {
     "name": "stdout",
     "output_type": "stream",
     "text": [
      "Counts for all cases (Total: 670):\n",
      "H    304\n",
      "B    200\n",
      "W    147\n",
      "U      9\n",
      "A      7\n",
      "I      3\n",
      "Name: race_eth, dtype: int64\n",
      "\n",
      "\n",
      "Counts for individuals arrests multiple times (Total: 68):\n",
      "H    35\n",
      "B    23\n",
      "W     9\n",
      "I     1\n",
      "Name: race_eth, dtype: int64\n",
      "\n",
      "\n",
      "Percentages for all cases (Total: 670):\n",
      "H    45.4\n",
      "B    29.9\n",
      "W    21.9\n",
      "U     1.3\n",
      "A     1.0\n",
      "I     0.4\n",
      "Name: race_eth, dtype: float64\n",
      "\n",
      "\n",
      "Percentages for individuals arrests multiple times (Total: 68):\n",
      "H    51.5\n",
      "B    33.8\n",
      "W    13.2\n",
      "I     1.5\n",
      "Name: race_eth, dtype: float64\n"
     ]
    }
   ],
   "source": [
    "\n",
    "threshold = 2  # This could be varied to evaluate different cases\n",
    "\n",
    "vc = df_single_charge[\"Arrestee Name ID\"].value_counts()\n",
    "# Remove value counts that do not exceed the threshold\n",
    "vc_exceed_thresh = vc[vc>=threshold]\n",
    "\n",
    "# The row labels are termed indices and can be accessed with .index\n",
    "name_ids_for_exceeds = vc_exceed_thresh.index\n",
    "\n",
    "# Let's create a DataFrame that only contains the names in name_ids_for_exceeds\n",
    "\n",
    "# .isin(name_ids_for_exceeds) is True for values that are in name_ids_for_exceeds\n",
    "has_matching_name = df_single_charge[\"Arrestee Name ID\"].isin(name_ids_for_exceeds)\n",
    "\n",
    "# Let's only keep one row per name so that each is only counted once when we look at race/ethnicity\n",
    "df_exceeds = df_single_charge[has_matching_name].drop_duplicates(subset=\"Arrestee Name ID\")\n",
    "\n",
    "print(f\"Counts for all cases (Total: {len(df_single_charge)}):\")\n",
    "print(df_single_charge[\"race_eth\"].value_counts())\n",
    "\n",
    "print(f\"\\n\\nCounts for individuals arrests multiple times (Total: {len(df_exceeds)}):\")\n",
    "print(df_exceeds[\"race_eth\"].value_counts())\n",
    "\n",
    "print(f\"\\n\\nPercentages for all cases (Total: {len(df_single_charge)}):\")\n",
    "print(df_single_charge[\"race_eth\"].value_counts(normalize=True).round(3)*100)\n",
    "\n",
    "print(f\"\\n\\nPercentages for individuals arrests multiple times (Total: {len(df_exceeds)}):\")\n",
    "print(df_exceeds[\"race_eth\"].value_counts(normalize=True).round(3)*100)"
   ]
  }
 ],
 "metadata": {
  "kernelspec": {
   "display_name": "Python 3.9.12 ('diane')",
   "language": "python",
   "name": "python3"
  },
  "language_info": {
   "codemirror_mode": {
    "name": "ipython",
    "version": 3
   },
   "file_extension": ".py",
   "mimetype": "text/x-python",
   "name": "python",
   "nbconvert_exporter": "python",
   "pygments_lexer": "ipython3",
   "version": "3.9.7"
  },
  "orig_nbformat": 4,
  "vscode": {
   "interpreter": {
    "hash": "70ce81214a45cd25e58bcc0d2f3f49bdc36228a02b6bf2b5b434cf32c14c6540"
   }
  }
 },
 "nbformat": 4,
 "nbformat_minor": 2
}
