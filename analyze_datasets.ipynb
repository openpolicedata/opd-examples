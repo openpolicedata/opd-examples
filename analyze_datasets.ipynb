{
 "cells": [
  {
   "cell_type": "markdown",
   "metadata": {},
   "source": [
    "# A Simple Data Analysis Example"
   ]
  },
  {
   "cell_type": "markdown",
   "metadata": {},
   "source": [
    "The example shows how to do basic data analysis of the datasets. The example uses 2021 Fairfax County Virginia traffic stop data to analyze race/ethnicity values."
   ]
  },
  {
   "cell_type": "code",
   "execution_count": 1,
   "metadata": {},
   "outputs": [],
   "source": [
    "import openpolicedata as opd\n",
    "import pandas as pd\n",
    "import numpy as np"
   ]
  },
  {
   "cell_type": "code",
   "execution_count": 7,
   "metadata": {},
   "outputs": [
    {
     "data": {
      "text/html": [
       "<div>\n",
       "<style scoped>\n",
       "    .dataframe tbody tr th:only-of-type {\n",
       "        vertical-align: middle;\n",
       "    }\n",
       "\n",
       "    .dataframe tbody tr th {\n",
       "        vertical-align: top;\n",
       "    }\n",
       "\n",
       "    .dataframe thead th {\n",
       "        text-align: right;\n",
       "    }\n",
       "</style>\n",
       "<table border=\"1\" class=\"dataframe\">\n",
       "  <thead>\n",
       "    <tr style=\"text-align: right;\">\n",
       "      <th>race_eth</th>\n",
       "      <th>AMERICAN INDIAN OR ALASKA NATIVE</th>\n",
       "      <th>ASIAN OR NATIVE HAWAIIAN OR OTHER PACIFIC ISLANDER</th>\n",
       "      <th>BLACK OR AFRICAN AMERICAN</th>\n",
       "      <th>UNKNOWN</th>\n",
       "      <th>WHITE</th>\n",
       "    </tr>\n",
       "    <tr>\n",
       "      <th>PERSON SEARCHED</th>\n",
       "      <th></th>\n",
       "      <th></th>\n",
       "      <th></th>\n",
       "      <th></th>\n",
       "      <th></th>\n",
       "    </tr>\n",
       "  </thead>\n",
       "  <tbody>\n",
       "    <tr>\n",
       "      <th>NO</th>\n",
       "      <td>92</td>\n",
       "      <td>1619</td>\n",
       "      <td>4192</td>\n",
       "      <td>3405</td>\n",
       "      <td>12934</td>\n",
       "    </tr>\n",
       "    <tr>\n",
       "      <th>YES</th>\n",
       "      <td>3</td>\n",
       "      <td>121</td>\n",
       "      <td>934</td>\n",
       "      <td>40</td>\n",
       "      <td>1809</td>\n",
       "    </tr>\n",
       "  </tbody>\n",
       "</table>\n",
       "</div>"
      ],
      "text/plain": [
       "race_eth         AMERICAN INDIAN OR ALASKA NATIVE  \\\n",
       "PERSON SEARCHED                                     \n",
       "NO                                             92   \n",
       "YES                                             3   \n",
       "\n",
       "race_eth         ASIAN OR NATIVE HAWAIIAN OR OTHER PACIFIC ISLANDER  \\\n",
       "PERSON SEARCHED                                                       \n",
       "NO                                                            1619    \n",
       "YES                                                            121    \n",
       "\n",
       "race_eth         BLACK OR AFRICAN AMERICAN  UNKNOWN  WHITE  \n",
       "PERSON SEARCHED                                             \n",
       "NO                                    4192     3405  12934  \n",
       "YES                                    934       40   1809  "
      ]
     },
     "execution_count": 7,
     "metadata": {},
     "output_type": "execute_result"
    }
   ],
   "source": [
    "agency_comp = \"Fairfax County Police Department\"\n",
    "year = 2021\n",
    "src = opd.Source(source_name=\"Virginia\")\n",
    "t_ffx = src.load(table_type='STOPS', date=year, agency=agency_comp)\n",
    "\n",
    "# Make a copy of the table so that we can make changes without changing the original table.\n",
    "df_ffx = t_ffx.table.copy()\n",
    "\n",
    "# Race and ethnicity are saved in different columns in Virginia's data but analysis is typically done on a combined race/ethnicity column\n",
    "# containing Hispanic of all races, White Non-Hispanic, Black Non-Hispanic, Asian Non-Hispanic, etc. groups.\n",
    "# Create combined race/ethnicity category\n",
    "df_ffx[\"race_eth\"] = df_ffx[\"RACE\"]   # Default the value of the race/ethnicity to the race\n",
    "\n",
    "# For all rows where the ethnicity is HISPANIC, set \"race_eth\" column to HISPANIC\n",
    "df_ffx.loc[df_ffx[\"ETHNICITY\"] == \"HISPANIC\", \"race_eth\"] = \"HISPANIC\"\n",
    "# For all rows where the ethnicity is UNKNOWN, set \"race_eth\" column to UNKNOWN\n",
    "df_ffx.loc[df_ffx[\"ETHNICITY\"] == \"UNKNOWN\", \"race_eth\"] = \"UNKNOWN\"\n",
    "\n",
    "# Find the number of searches of persons by race and ethnicity\n",
    "# groupby groups the rows of the table based on [\"person_searched\",\"race_eth\"]\n",
    "# size() finds the number of rows in each group (i.e. the number of searches for each race/ethnicity group)\n",
    "# unstack just makes the resulting table more presentable\n",
    "searches = df_ffx.groupby([\"PERSON SEARCHED\",\"race_eth\"]).size().unstack(\"race_eth\")\n",
    "\n",
    "searches"
   ]
  },
  {
   "cell_type": "markdown",
   "metadata": {},
   "source": [
    "Let's find the percent of stops that end in the person being searched for each race/ethnicity group"
   ]
  },
  {
   "cell_type": "code",
   "execution_count": 8,
   "metadata": {},
   "outputs": [
    {
     "data": {
      "text/html": [
       "<div>\n",
       "<style scoped>\n",
       "    .dataframe tbody tr th:only-of-type {\n",
       "        vertical-align: middle;\n",
       "    }\n",
       "\n",
       "    .dataframe tbody tr th {\n",
       "        vertical-align: top;\n",
       "    }\n",
       "\n",
       "    .dataframe thead th {\n",
       "        text-align: right;\n",
       "    }\n",
       "</style>\n",
       "<table border=\"1\" class=\"dataframe\">\n",
       "  <thead>\n",
       "    <tr style=\"text-align: right;\">\n",
       "      <th></th>\n",
       "      <th># of Stops</th>\n",
       "      <th># of Searches</th>\n",
       "      <th>% of Stops With Search</th>\n",
       "    </tr>\n",
       "    <tr>\n",
       "      <th>race_eth</th>\n",
       "      <th></th>\n",
       "      <th></th>\n",
       "      <th></th>\n",
       "    </tr>\n",
       "  </thead>\n",
       "  <tbody>\n",
       "    <tr>\n",
       "      <th>AMERICAN INDIAN OR ALASKA NATIVE</th>\n",
       "      <td>95</td>\n",
       "      <td>3</td>\n",
       "      <td>3.2</td>\n",
       "    </tr>\n",
       "    <tr>\n",
       "      <th>ASIAN OR NATIVE HAWAIIAN OR OTHER PACIFIC ISLANDER</th>\n",
       "      <td>1740</td>\n",
       "      <td>121</td>\n",
       "      <td>7.0</td>\n",
       "    </tr>\n",
       "    <tr>\n",
       "      <th>BLACK OR AFRICAN AMERICAN</th>\n",
       "      <td>5126</td>\n",
       "      <td>934</td>\n",
       "      <td>18.2</td>\n",
       "    </tr>\n",
       "    <tr>\n",
       "      <th>UNKNOWN</th>\n",
       "      <td>3445</td>\n",
       "      <td>40</td>\n",
       "      <td>1.2</td>\n",
       "    </tr>\n",
       "    <tr>\n",
       "      <th>WHITE</th>\n",
       "      <td>14743</td>\n",
       "      <td>1809</td>\n",
       "      <td>12.3</td>\n",
       "    </tr>\n",
       "  </tbody>\n",
       "</table>\n",
       "</div>"
      ],
      "text/plain": [
       "                                                    # of Stops  # of Searches  \\\n",
       "race_eth                                                                        \n",
       "AMERICAN INDIAN OR ALASKA NATIVE                            95              3   \n",
       "ASIAN OR NATIVE HAWAIIAN OR OTHER PACIFIC ISLANDER        1740            121   \n",
       "BLACK OR AFRICAN AMERICAN                                 5126            934   \n",
       "UNKNOWN                                                   3445             40   \n",
       "WHITE                                                    14743           1809   \n",
       "\n",
       "                                                    % of Stops With Search  \n",
       "race_eth                                                                    \n",
       "AMERICAN INDIAN OR ALASKA NATIVE                                       3.2  \n",
       "ASIAN OR NATIVE HAWAIIAN OR OTHER PACIFIC ISLANDER                     7.0  \n",
       "BLACK OR AFRICAN AMERICAN                                             18.2  \n",
       "UNKNOWN                                                                1.2  \n",
       "WHITE                                                                 12.3  "
      ]
     },
     "execution_count": 8,
     "metadata": {},
     "output_type": "execute_result"
    }
   ],
   "source": [
    "# The total number of searches for each group is the sum of each column\n",
    "number_of_stops = searches.sum()\n",
    "# The number of searches for each group is the number of Yes's for each group\n",
    "number_of_searches = searches.loc[\"YES\"]\n",
    "\n",
    "# Calculate the search rate (% of people search over total people stopped)\n",
    "percent_stops_with_search = np.round(number_of_searches/number_of_stops*100,1)\n",
    "\n",
    "# Create a DataFrame out of the 3 metrics calculated above\n",
    "searches_df = pd.DataFrame([number_of_stops, number_of_searches, percent_stops_with_search], \n",
    "    index=[\"# of Stops\", \"# of Searches\", \"% of Stops With Search\"])\n",
    "searches_df = searches_df.transpose()\n",
    "searches_df[\"# of Stops\"] = searches_df[\"# of Stops\"].astype(int)\n",
    "searches_df[\"# of Searches\"] = searches_df[\"# of Searches\"].astype(int)\n",
    "# searches.dropna(inplace=True)\n",
    "searches_df"
   ]
  },
  {
   "cell_type": "code",
   "execution_count": 9,
   "metadata": {},
   "outputs": [
    {
     "data": {
      "text/plain": [
       "Text(0.5, 1.0, 'Percentage of Stops Where the Person is Searched')"
      ]
     },
     "execution_count": 9,
     "metadata": {},
     "output_type": "execute_result"
    },
    {
     "data": {
      "image/png": "[encoded data removed]",
      "text/plain": [
       "<Figure size 432x288 with 1 Axes>"
      ]
     },
     "metadata": {
      "needs_background": "light"
     },
     "output_type": "display_data"
    }
   ],
   "source": [
    "ax = searches_df.plot.barh(y=\"% of Stops With Search\", grid=True, legend=False)\n",
    "ax.set_ylabel(\"\")\n",
    "ax.set_xlabel(\"Percentage\")\n",
    "ax.set_title(\"Percentage of Stops Where the Person is Searched\")"
   ]
  }
 ],
 "metadata": {
  "kernelspec": {
   "display_name": "Python 3.9.12 ('opd')",
   "language": "python",
   "name": "python3"
  },
  "language_info": {
   "codemirror_mode": {
    "name": "ipython",
    "version": 3
   },
   "file_extension": ".py",
   "mimetype": "text/x-python",
   "name": "python",
   "nbconvert_exporter": "python",
   "pygments_lexer": "ipython3",
   "version": "3.9.7"
  },
  "orig_nbformat": 4,
  "vscode": {
   "interpreter": {
    "hash": "a73158d29711b2da05ac73de25b71e5d8cae591f14917bba77a9573b5c85a0ce"
   }
  }
 },
 "nbformat": 4,
 "nbformat_minor": 2
}
