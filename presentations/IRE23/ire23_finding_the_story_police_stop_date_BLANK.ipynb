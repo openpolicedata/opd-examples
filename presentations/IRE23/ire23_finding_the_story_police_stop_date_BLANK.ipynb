{
 "cells": [
  {
   "attachments": {},
   "cell_type": "markdown",
   "id": "79f74201-82a8-49bb-8733-7b5ac765e455",
   "metadata": {},
   "source": [
    "# Analyzing police stop data using Python"
   ]
  },
  {
   "attachments": {},
   "cell_type": "markdown",
   "id": "a8274e60-1cae-420d-a2c7-d11ac7298f06",
   "metadata": {},
   "source": [
    "### Python and libraries"
   ]
  },
  {
   "attachments": {},
   "cell_type": "markdown",
   "id": "ae40022c-f843-4465-a9f2-8a86976c4fdd",
   "metadata": {},
   "source": [
    "Let's install the library or package that we will use while working with Python. pandas is a powerful Python library for analyzing tabular data.\n",
    "It has many other capabilities than what is shown in this Notebook.\n",
    "If you don't know how to do something with a table, usually it can be found by an internet search \n",
    "for python pandas + what you are trying to do."
   ]
  },
  {
   "cell_type": "code",
   "execution_count": null,
   "id": "eded1666-d4a8-4acc-9b96-cdb93b30e278",
   "metadata": {},
   "outputs": [],
   "source": [
    "import pandas"
   ]
  },
  {
   "attachments": {},
   "cell_type": "markdown",
   "id": "89e103e2-31bf-429e-91d6-2765fb65747e",
   "metadata": {},
   "source": [
    "Nothing happened when you hit the play button. That's a good thing. There were no errors. We also want to make things easier on ourselves though. Let's give pandas a nickname: pd. Retype your command as below. That way, we won't have to type as much every time we use pandas. "
   ]
  },
  {
   "cell_type": "code",
   "execution_count": null,
   "id": "436e988e-4164-4069-8a91-049c850414d3",
   "metadata": {},
   "outputs": [],
   "source": [
    "import pandas as pd"
   ]
  },
  {
   "attachments": {},
   "cell_type": "markdown",
   "id": "8ba7807f-278e-4f02-8325-f5dc3fc35f41",
   "metadata": {},
   "source": [
    "Fun fact: pandas was invented for use at a financial investment firm and has become the leading open-source library for accessing and analyzing data in many different fields."
   ]
  },
  {
   "attachments": {},
   "cell_type": "markdown",
   "id": "d9d7023e-40ac-4e55-81d4-9f1efb9ec2db",
   "metadata": {},
   "source": [
    "### Importing Data\n"
   ]
  },
  {
   "attachments": {},
   "cell_type": "markdown",
   "id": "d89e04b4-310a-4e58-be89-0d387d543a59",
   "metadata": {},
   "source": [
    "### Let's load data for Louisville police stops for the most recent full year (2022)\n",
    "\n",
    "The data is in the csv file that we saved when we were working with it in Excel."
   ]
  },
  {
   "attachments": {},
   "cell_type": "markdown",
   "id": "7626f997-2f19-4051-9710-49b88dafa125",
   "metadata": {},
   "source": [
    "Let's create a new cell by clicking the + button at the top, and then type the code that will import our data.\n",
    "We'll use the read_csv function included with pandas."
   ]
  },
  {
   "cell_type": "code",
   "execution_count": null,
   "id": "9a1e5e4b-dec4-428d-b252-d43367f825ec",
   "metadata": {},
   "outputs": [],
   "source": [
    "pd.read_csv(\"Kentucky_Louisville_TRAFFIC_STOPS_2022.csv\")"
   ]
  },
  {
   "attachments": {},
   "cell_type": "markdown",
   "id": "707b6ec2-edeb-406e-b226-369dd64d9dc1",
   "metadata": {},
   "source": [
    "What we see on our screen first is the top and the end of our data, with an ellipsis denoting the rest of it. That's not enough to really start to work with it though."
   ]
  },
  {
   "attachments": {},
   "cell_type": "markdown",
   "id": "9f3271f9-00d9-478a-ab2e-bf38a7b000e0",
   "metadata": {},
   "source": [
    "And, while we ran the read_csv function we didn't put the data in a variable, or something we can easily access. Let's write that code again, as below."
   ]
  },
  {
   "cell_type": "code",
   "execution_count": null,
   "id": "11b3503e-2361-45d0-ae0e-5c76e21a9682",
   "metadata": {},
   "outputs": [],
   "source": [
    "''' INSTRUCTIONS WILL BE IN TRIPLE QUOTES '''\n",
    "'''Run the read_csv again but this time put the result in a variable called louisville'''\n"
   ]
  },
  {
   "attachments": {},
   "cell_type": "markdown",
   "id": "d66f6406-f66e-471f-b26d-e3408cdfd423",
   "metadata": {},
   "source": [
    "Nothing happened when you hit play this time because all of those rows were piped into a variable called louisville. Now, we can use that data."
   ]
  },
  {
   "attachments": {},
   "cell_type": "markdown",
   "id": "01201832-d3c0-4ad2-809d-cdb56d52bc99",
   "metadata": {},
   "source": [
    "Find the names of the columns"
   ]
  },
  {
   "cell_type": "code",
   "execution_count": null,
   "id": "88221d5e-2a23-40d0-a07d-9e92fb2ebcef",
   "metadata": {},
   "outputs": [],
   "source": [
    "print(\"The columns are\")\n",
    "'''Print the columns of lousiville'''"
   ]
  },
  {
   "attachments": {},
   "cell_type": "markdown",
   "id": "fdf034ce-b78c-4f51-b5d9-299f5b372f75",
   "metadata": {},
   "source": [
    "Or, we can also use the info method to look at each column and what type of information is in the column. Object is panda's way of saying text, or string."
   ]
  },
  {
   "cell_type": "code",
   "execution_count": null,
   "id": "8f742688-825c-4422-b387-752c97edc637",
   "metadata": {},
   "outputs": [],
   "source": [
    "'''Run the info method on louisville'''"
   ]
  },
  {
   "cell_type": "code",
   "execution_count": null,
   "id": "92d78f0b-02f0-4966-8bbc-dea1cc63a3a7",
   "metadata": {},
   "outputs": [],
   "source": [
    "'''Use the head method to preview the 1st 5 rows of louisville'''"
   ]
  },
  {
   "attachments": {},
   "cell_type": "markdown",
   "id": "a617082c-64de-49b7-8cad-645e8f243c03",
   "metadata": {},
   "source": [
    "You can look at the last few rows too. The default is 5, but you can change that by putting the number of rows you want to see inside the parentheses. "
   ]
  },
  {
   "cell_type": "code",
   "execution_count": null,
   "id": "ba4d7ac2-9ff0-4fde-8276-b06a9f84cd71",
   "metadata": {},
   "outputs": [],
   "source": [
    "louisville.tail(10)"
   ]
  },
  {
   "attachments": {},
   "cell_type": "markdown",
   "id": "3cac454d-1222-4a53-9997-37e6f22dda4c",
   "metadata": {},
   "source": [
    "## How to sort pandas DataFrames"
   ]
  },
  {
   "cell_type": "code",
   "execution_count": null,
   "id": "7422758c-a6f1-45eb-964c-ccedde77fce4",
   "metadata": {},
   "outputs": [],
   "source": [
    "# Sort the data by date and time\n",
    "df_sorted = louisville.sort_values([\"ACTIVITY_DATE\",\"ACTIVITY_TIME\"])\n",
    "df_sorted.head()"
   ]
  },
  {
   "attachments": {},
   "cell_type": "markdown",
   "id": "db7f4946-f237-40f6-8d0f-2923b828fa6a",
   "metadata": {},
   "source": [
    "### How to filter pandas DataFrames"
   ]
  },
  {
   "cell_type": "code",
   "execution_count": null,
   "id": "893f440f",
   "metadata": {},
   "outputs": [],
   "source": [
    "# The unique method can be used to find unique values in a column\n",
    "print(f\"The unique values of the column OFFICER_GENDER are {louisville['OFFICER_GENDER'].unique()}\")\n",
    "print(f\"The unique values of the column TYPE_OF_STOP are {louisville['TYPE_OF_STOP'].unique()}\")"
   ]
  },
  {
   "cell_type": "code",
   "execution_count": null,
   "id": "a6ececbd-b47c-4741-b5b9-190594498121",
   "metadata": {},
   "outputs": [],
   "source": [
    "# Filter for cases where the officer gender is female and the type of stop is NOT a traffic violation\n",
    "# First, find cases where the gender is female\n",
    "df_filtered = louisville[louisville[\"OFFICER_GENDER\"]==\"F\"]\n",
    "'''Now filter the TYPE_OF_STOP column of df_filtered for stops that are not traffic violations'''\n",
    "'''HINT: To test if values are not equal use != '''\n",
    "\n",
    "# Print the top rows\n",
    "df_filtered.head()"
   ]
  },
  {
   "attachments": {},
   "cell_type": "markdown",
   "id": "e8c54b85-9745-40e4-bc06-40931da17c6e",
   "metadata": {},
   "source": [
    "### Pivot tables\n",
    "There are a variety of ways to do pivot tables with pandas. Let's review a couple useful ones."
   ]
  },
  {
   "cell_type": "code",
   "execution_count": null,
   "id": "40af9a59-5c88-4555-b53a-9f87bbb75bf6",
   "metadata": {},
   "outputs": [],
   "source": [
    "# value_counts is very powerful whenever you want to know how many of something there are\n",
    "louisville.value_counts([\"DRIVER_RACE\"])"
   ]
  },
  {
   "attachments": {},
   "cell_type": "markdown",
   "id": "6c548d38-b23b-48bd-80a1-46d2a252eacb",
   "metadata": {},
   "source": [
    "You can also breakdown by multiple fields and return proportions rather than counts"
   ]
  },
  {
   "cell_type": "code",
   "execution_count": null,
   "id": "eb070c8d-66f8-4adc-ad83-42f6cade8ecc",
   "metadata": {},
   "outputs": [],
   "source": [
    "''' Now, breakdown the data by DRIVER_GENDER and DRIVER_RACE and set the normalize input to True'''\n",
    "\n",
    "vc"
   ]
  },
  {
   "attachments": {},
   "cell_type": "markdown",
   "id": "84b0eba0-d985-4617-affd-320fdaad1d99",
   "metadata": {},
   "source": [
    "Often, it is looks better to make the 2nd variable into a column\n",
    "This can be done with unstack\n",
    "Let's also round to 3 decimal places and convert to percentages by multiplying by 100"
   ]
  },
  {
   "cell_type": "code",
   "execution_count": null,
   "id": "488e02b6-d742-4832-acc3-9d4ed9d6de01",
   "metadata": {},
   "outputs": [],
   "source": [
    "vc.unstack().round(3)*100"
   ]
  },
  {
   "attachments": {},
   "cell_type": "markdown",
   "id": "ba6f1a0c-b31c-49b2-8d91-2ce34a8436a2",
   "metadata": {},
   "source": [
    "Although there are not a lot of numerical columns (other than counts) in police data to perform statistics on, if you want to apply a different statistic to each group, you can use groupby. \n",
    "\n",
    "There are only 3 numerical columns in the Louisville traffic stops data\n",
    "Reason for search values are categories and the ObjectId is a database ID number, so taking their means, or averages, is meaningless\n",
    "The mean number of passengers could be interesting if people of one race/age/gender are more likely to be pulled over when they have passengers in the car."
   ]
  },
  {
   "cell_type": "code",
   "execution_count": null,
   "id": "809bb2f8-44da-4359-9142-b5b1b116e2f5",
   "metadata": {},
   "outputs": [],
   "source": [
    "# (numeric_only being True only applies the mean function to numerical categories)\n",
    "louisville.groupby([\"DRIVER_GENDER\",\"DRIVER_RACE\"]).mean(numeric_only=True).round(2)"
   ]
  },
  {
   "attachments": {},
   "cell_type": "markdown",
   "id": "620102df-3612-491b-ad07-ba02f8459998",
   "metadata": {},
   "source": [
    "## Now, let's analyze search rates by looking at how often police search people of different races after they have been stopped"
   ]
  },
  {
   "cell_type": "code",
   "execution_count": null,
   "id": "93d870f1-ce40-4580-9f9f-5a185ff8e154",
   "metadata": {},
   "outputs": [],
   "source": [
    "# Let's remind ourselves of what columns are available\n",
    "\n",
    "'''Print out the columns of louisville again'''"
   ]
  },
  {
   "attachments": {},
   "cell_type": "markdown",
   "id": "dd718728-7428-4739-9abd-6ac67941ae9d",
   "metadata": {},
   "source": [
    "There are 2 columns related to searches:\n",
    "1. WAS_VEHCILE_SEARCHED (Notice vehicle is spelled wrong in the column name...)\n",
    "2. REASON_FOR_SEARCH\n",
    "\n",
    "*Note that there is only data related to searches of vehicles, not searches of persons.*\n",
    "\n",
    "According to the data dictionary at the source URL, WAS_VEHCILE_SEARCHED is \"Yes or No whether the vehicle was searched at the time of the stop\" and REASON_FOR_SEARCH is \"if the vehicle was searched, the reason the search was done, please see codes below\".\n",
    "\n",
    "- CONSENT: 1\n",
    "- TERRY STOP OR PAT DOWN = 2\n",
    "- INCIDENT TO ARREST = 3\n",
    "- PROBABLE CAUSE = 4\n",
    "- OTHER = 5\n",
    "\n",
    "**We can use WAS_VEHCILE_SEARCHED to calculate search rates**"
   ]
  },
  {
   "cell_type": "code",
   "execution_count": null,
   "id": "ec602702-30b0-4acb-8ac2-021d9a5fb33f",
   "metadata": {},
   "outputs": [],
   "source": [
    "# Let's first get the counts for how often each was race was searched\n",
    "\n",
    "'''Use value_counts to breakdown by WAS_VEHCILE_SEARCHED and DRIVER_RACE columns'''\n",
    "\n",
    "\n",
    "# fill_value=0 fills empty values with 0\n",
    "counts = counts.unstack(fill_value=0)\n",
    "counts"
   ]
  },
  {
   "attachments": {},
   "cell_type": "markdown",
   "id": "6d88ee4d-adca-44d4-b17e-ac9e41dadbfd",
   "metadata": {},
   "source": [
    "The equation for search rate is:\n",
    "\n",
    "$$\n",
    "\\text{Search Rate (\\%)} = \\frac{\\text{\\# of Searches}}{\\text{Total \\# of Stops}} x 100\n",
    "$$\n",
    "\n",
    "\n",
    "We can access the # of searches for each race based on row index (YES OR NO) using loc:"
   ]
  },
  {
   "cell_type": "code",
   "execution_count": null,
   "id": "360c1294",
   "metadata": {},
   "outputs": [],
   "source": [
    "num_of_searches = counts.loc[\"YES\"]\n",
    "num_of_searches"
   ]
  },
  {
   "attachments": {},
   "cell_type": "markdown",
   "id": "796d64c1",
   "metadata": {},
   "source": [
    "We can get the total # of searches from counts by using the sum method to get the sum for each column"
   ]
  },
  {
   "cell_type": "code",
   "execution_count": null,
   "id": "b452eea9",
   "metadata": {},
   "outputs": [],
   "source": [
    "total_stops = counts.sum()\n",
    "total_stops"
   ]
  },
  {
   "cell_type": "code",
   "execution_count": null,
   "id": "a09abadd-b436-436d-88ea-9915da26fdc7",
   "metadata": {},
   "outputs": [],
   "source": [
    "'''Calculate the search rate as a percentage and call it search_rate_percentage'''\n",
    "\n",
    "\n",
    "search_rate_percentage.round(2)"
   ]
  },
  {
   "attachments": {},
   "cell_type": "markdown",
   "id": "fcb6fb4e-f7ec-4a2f-a257-d83d5b584a6a",
   "metadata": {},
   "source": [
    "**We can also look at search rate broken down by the reason for search.**"
   ]
  },
  {
   "cell_type": "code",
   "execution_count": null,
   "id": "b9cf7f2d-6822-4ff9-84bf-517c71b084a9",
   "metadata": {},
   "outputs": [],
   "source": [
    "counts = louisville.value_counts([\"WAS_VEHCILE_SEARCHED\",\"REASON_FOR_SEARCH\",\"DRIVER_RACE\"]).unstack(fill_value=0)\n",
    "search_rate = counts.loc[\"YES\"] / counts.sum() * 100\n",
    "\n",
    "search_rate.round(2)"
   ]
  },
  {
   "attachments": {},
   "cell_type": "markdown",
   "id": "fbaa1379-ee47-4d08-9edf-3758c6765984",
   "metadata": {},
   "source": [
    "Note that 0 is not a valid reason for search code but it is used fairly frequently. It is unknown what this value indicates but it may be officers not filling out the search reason\n",
    "\n",
    "### We can rename the reason for search codes to be clearer"
   ]
  },
  {
   "cell_type": "code",
   "execution_count": null,
   "id": "a7fa759f-98f5-4583-b6f3-4ad08d629b8a",
   "metadata": {},
   "outputs": [],
   "source": [
    "# This is a dictionary (coded as {key1:value1, key2:value2, ...} )\n",
    "# code2text[key] will output the value corresponding to that key (i.e. code2text[5])\n",
    "# We will use it to map our old row names to new ones\n",
    "code2text = {1:\"CONSENT\", 2:\"TERRY STOP OR PAT DOWN\", 3:\"INCIDENT TO ARREST\", 4:\"PROBABLE CAUSE\", 5:\"OTHER\"}\n",
    "\n",
    "'''Use the rename method on search_rate with the input `index` set to our code2text dictionary'''\n",
    "\n",
    "\n",
    "search_rate.round(2)"
   ]
  },
  {
   "attachments": {},
   "cell_type": "markdown",
   "id": "7c17122b-3da6-40b5-85b0-6f36fb3761cc",
   "metadata": {},
   "source": [
    "### Any pandas DataFrame can be easily exported to a CSV file to read into Excel or another program"
   ]
  },
  {
   "cell_type": "code",
   "execution_count": null,
   "id": "1c55146c-87ff-49bd-b969-ce5ad07c1e0a",
   "metadata": {},
   "outputs": [],
   "source": [
    "search_rate.to_csv(\"Louisville_Search_Rates_2022.csv\")"
   ]
  },
  {
   "attachments": {},
   "cell_type": "markdown",
   "id": "6fc2ec7e-63f9-4b33-a373-d2bb7ad6d6a7",
   "metadata": {},
   "source": [
    "# Using the OpenPoliceData (OPD) Library to Load Data into Python for Analysis or Export to Other Tools\n",
    "## This is a good intro to how to analyze data with python, but what about finding data? We've got you covered!\n",
    "## OPD provides access to over 300 police datasets with 2 lines of code:\n",
    "```\n",
    "> src = opd.Source(source_name, state)\n",
    "> data = src.load(table_type, year)\n",
    "```\n",
    "\n",
    "### In order to use the OPD, we need to import it. If it does not exist, it must be installed as well."
   ]
  },
  {
   "cell_type": "code",
   "execution_count": null,
   "id": "ac629e9e-439d-4197-a88c-f467c7cfb7a9",
   "metadata": {},
   "outputs": [],
   "source": [
    "# User Guide for OpenPoliceData: https://github.com/openpolicedata/openpolicedata\n",
    "try:\n",
    "    # Import the OpenPoliceData Python library and call it opd\n",
    "    import openpolicedata as opd \n",
    "except:\n",
    "    # Install the OpenPoliceData Python library\n",
    "    %pip install openpolicedata\n",
    "    # Import the OpenPoliceData Python library and call it opd\n",
    "    import openpolicedata as opd "
   ]
  },
  {
   "attachments": {},
   "cell_type": "markdown",
   "id": "14a88c22",
   "metadata": {},
   "source": [
    "### Now, let's load in the same data as before but with OPD\n",
    "The advantage of downloading CSV police data files this way vs. downloading with the interactive web app is that working with Python and the OPD library, you can automate the process and easily download multiple files. \n",
    "\n",
    "The BIG advantage of both of these tools is that you don't have to find the data yourself. We also provide access to the URLs for the data so that you can view the website too."
   ]
  },
  {
   "cell_type": "code",
   "execution_count": null,
   "id": "d8596f21",
   "metadata": {},
   "outputs": [],
   "source": [
    "# NOTE: Passing in the state is optional unless multiple cities with the same name have data (you'll know if this happens because an error will tell you)\n",
    "\n",
    "'''Create a Source for Louisville'''\n",
    "\n",
    "''' Use the Source to load the TRAFFIC STOPS data for 2022'''\n",
    "\n",
    "\n",
    "# The data is stored in table. Put it in the variable louisville so it can be used instead of the original louisville variable loaded from the CSV file\n",
    "louisville = data.table\n",
    "louisville.head()"
   ]
  },
  {
   "attachments": {},
   "cell_type": "markdown",
   "id": "ea6269bf-ec76-471a-84c5-d0b7da0e094e",
   "metadata": {},
   "source": [
    "### We overwrote the lousiville variable with the data loaded from OPD. We could rerun all the above cells and get the same results.\n",
    "\n",
    "### But how would we have found the data in the 1st place? Let's first learn what types of data are available in OPD by printing out a summary of available data by type."
   ]
  },
  {
   "cell_type": "code",
   "execution_count": null,
   "id": "0233308e-4baf-4795-90b0-b29ec74a37c2",
   "metadata": {},
   "outputs": [],
   "source": [
    "# What types of data are available in OPD?\n",
    "# head(x) shows the first x rows. Remove the .head(x) to show the entire table\n",
    "# Show the first 20 rows of the table types summary table\n",
    "opd.datasets.summary_by_table_type().head(19)"
   ]
  },
  {
   "attachments": {},
   "cell_type": "markdown",
   "id": "40fd0768-aab7-4cec-8b90-e32c56130c80",
   "metadata": {},
   "source": [
    "### We can query the data to find specific datasets\n",
    "\n",
    "query has 4 optional inputs that you can filter datasets by. \n",
    "```\n",
    "datasets = opd.datasets.query(source_name, state, agency, table_type)\n",
    "```\n",
    "\n",
    "If no inputs are provided, all datasets will be returned:"
   ]
  },
  {
   "cell_type": "code",
   "execution_count": null,
   "id": "da95d98a-03d1-4141-8b35-577db8dcb364",
   "metadata": {},
   "outputs": [],
   "source": [
    "'''Call query with no inputs to get all the datasets. Set it equal to `datasets`'''\n",
    "\n",
    "print(f\"There are {opd.datasets.num_unique()} datasets available in OPD\")\n",
    "startrow = 200\n",
    "num_rows = 3\n",
    "# Putting an f in front of a string allows the parts in braces {} to be replaced by their result of what's in the braces\n",
    "print(f\"Rows {startrow} to {startrow+num_rows-1} of the datasets table are:\")\n",
    "datasets.iloc[startrow:startrow+num_rows]"
   ]
  },
  {
   "attachments": {},
   "cell_type": "markdown",
   "id": "d71ae526-e46d-475b-9f0f-0edaf988501c",
   "metadata": {},
   "source": [
    "### Now let's find only traffic stops tables from Kentucky"
   ]
  },
  {
   "cell_type": "code",
   "execution_count": null,
   "id": "c08bae1c-ba3f-4c09-bd30-156c8b9eacb9",
   "metadata": {},
   "outputs": [],
   "source": [
    "table_name = \"TRAFFIC STOPS\"\n",
    "state_name = \"Kentucky\"\n",
    "\n",
    "'''Create a query for only states matching state_name and table types matching table_name'''\n",
    "\n",
    "\n",
    "\n",
    "print(f\"There are {len(datasets)} {table_name} datasets in {state_name}:\")\n",
    "datasets"
   ]
  },
  {
   "attachments": {},
   "cell_type": "markdown",
   "id": "f9712fd1-3eba-4195-ba61-d5ab86d45999",
   "metadata": {},
   "source": [
    "### The only traffic stops data available in Kentucky. Let's create a source for Louisville, which can access all of Louisville's data"
   ]
  },
  {
   "cell_type": "code",
   "execution_count": null,
   "id": "e12fb918-2cbe-420e-bda4-bdf14a02609e",
   "metadata": {},
   "outputs": [],
   "source": [
    "# The state input is optional and only required if multiple sources from different states \n",
    "# have the same name (such as cities with the different name in multiple states)\n",
    "source_name = \"Louisville\"\n",
    "state = \"Kentucky\"  # Passing in the state is optional\n",
    "src = opd.Source(source_name, state=state)\n",
    "\n",
    "# We could print out every dataset from Louisville but there are a lot of them.\n",
    "# Here is some code to summarize what is available\n",
    "table_type_col = src.datasets[\"TableType\"]\n",
    "print(f\"{source_name} has {len(src.datasets)} datasets across {len(table_type_col.unique())} tables:\")\n",
    "print(table_type_col.unique())\n",
    "\n",
    "nrows = 5\n",
    "ncols = 7\n",
    "print(f\"The 1st {ncols} columns of the last {nrows} {source_name} datasets are:\") \n",
    "src.datasets.iloc[-nrows:-1, 0:ncols]"
   ]
  },
  {
   "attachments": {},
   "cell_type": "markdown",
   "id": "29b94666-c5d0-48de-a223-a53aa3f6bc83",
   "metadata": {},
   "source": [
    "If we look at coverage_start and coverage_end, we can see that the 2022 traffic stops data that we wanted to analyze is in the 2nd to last row and its row label is 398.\n",
    "\n",
    "Let's look at all the information for that dataset"
   ]
  },
  {
   "cell_type": "code",
   "execution_count": null,
   "id": "5fabebd0-6381-4708-87de-a369cc857b14",
   "metadata": {},
   "outputs": [],
   "source": [
    "'''Use loc to get the row of src.datasets whose row index is 398'''"
   ]
  },
  {
   "attachments": {},
   "cell_type": "markdown",
   "id": "7466603e-94d3-4921-994d-c39830fb30cb",
   "metadata": {},
   "source": [
    "The main information of interest that we have not previously examined are the URLs:\n",
    "1. source_url: Location of main data page if you want to see what other information is on the data website\n",
    "2. readme: Location of the data dictionary if it (A) exists and (B) is not directly on the main data page\n",
    "3. URL: URL used by OPD to directly access the data\n",
    "\n",
    "In this case, the 2022 Louisville Traffic Stops data has a data dictionary at the source_url (*NOTE: if you click on the source_url, it tries to open it with a JupyterLab browser and cannot find it. The URL is fine and can be opened using a standard browser*)"
   ]
  },
  {
   "attachments": {},
   "cell_type": "markdown",
   "id": "99ccf044-133e-4a84-b2ea-a2e2649fb5dd",
   "metadata": {},
   "source": [
    "Let's load the data for Louisville Traffic Stops in again"
   ]
  },
  {
   "cell_type": "code",
   "execution_count": null,
   "id": "c3f83d4d-760c-49ea-8241-08c5f9a213fc",
   "metadata": {},
   "outputs": [],
   "source": [
    "year = 2022\n",
    "table_type = \"TRAFFIC STOPS\"\n",
    "t = src.load(table_type, year)\n",
    "\n",
    "print(f\"The dataset has {len(t.table)} records\")"
   ]
  },
  {
   "attachments": {},
   "cell_type": "markdown",
   "id": "fd3804da-c410-4569-8757-5459c72f2bc4",
   "metadata": {},
   "source": [
    "You can export the table that we just read in to a CSV file with a default filename that can be loaded back in later with load_csv for faster loading if the data will be reused later. "
   ]
  },
  {
   "cell_type": "code",
   "execution_count": null,
   "id": "777f36f2",
   "metadata": {},
   "outputs": [],
   "source": [
    "t.to_csv()"
   ]
  },
  {
   "attachments": {},
   "cell_type": "markdown",
   "id": "612e4ef1-dc85-4fda-b338-52ada6ff963b",
   "metadata": {
    "scrolled": true
   },
   "source": [
    "## Resources:\n",
    "**OpenPoliceData**\n",
    "- OPD Documentation & Install: https://pypi.org/project/openpolicedata/\n",
    "- More OPD Examples: https://github.com/openpolicedata/opd-examples\n",
    "- OPD Explorer Web App: https://openpolicedata.streamlit.app/\n",
    "\n",
    "**Other Sources of Data**\n",
    "- Stanford Open Policing Project: https://openpolicing.stanford.edu/\n",
    "- Police Data Accountability Project Table of Police Data: https://pdap.io/data-sources.html\n",
    "\n",
    "**pandas Data Analysis Examples**\n",
    "- A tutorial using AZ stops data (courtesy Eric Sagara & Michael Corey): https://github.com/newshackaz/az_stops\n",
    "- A step-by-step guide to analyzing data with Python and the Jupyter notebook.: https://firstpythonnotebook.org/\n",
    "- 10 minutes to pandas: https://pandas.pydata.org/docs/user_guide/10min.html#min\n",
    "\n",
    "**Useful Python Installs**\n",
    "- Jupyter Desktop: What we used today. One install for Python + coding environment: https://github.com/jupyterlab/jupyterlab-desktop\n",
    "\n",
    "*With more experience, you may want to install Python separately with a more flexible coding environment:*\n",
    "- Python install: https://www.python.org/downloads/\n",
    "- VS Code (nice environment for coding and Jupyter Notebooks): https://code.visualstudio.com/"
   ]
  }
 ],
 "metadata": {
  "kernelspec": {
   "display_name": "Python 3 (ipykernel)",
   "language": "python",
   "name": "python3"
  },
  "language_info": {
   "codemirror_mode": {
    "name": "ipython",
    "version": 3
   },
   "file_extension": ".py",
   "mimetype": "text/x-python",
   "name": "python",
   "nbconvert_exporter": "python",
   "pygments_lexer": "ipython3",
   "version": "3.11.3"
  }
 },
 "nbformat": 4,
 "nbformat_minor": 5
}
